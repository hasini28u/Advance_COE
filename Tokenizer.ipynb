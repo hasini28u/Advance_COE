{
  "cells": [
    {
      "cell_type": "code",
      "execution_count": null,
      "metadata": {
        "id": "HtGa_rZOYk2i"
      },
      "outputs": [],
      "source": [
        "!pip install transformers --quiet"
      ]
    },
    {
      "cell_type": "code",
      "execution_count": null,
      "metadata": {
        "id": "xJyjRVcrYrQT"
      },
      "outputs": [],
      "source": [
        "!pip install -q huggingface_hub"
      ]
    },
    {
      "cell_type": "code",
      "execution_count": null,
      "metadata": {
        "id": "yW8NbmH0WHhQ"
      },
      "outputs": [],
      "source": [
        "from transformers import BertTokenizer , BertModel"
      ]
    },
    {
      "cell_type": "code",
      "execution_count": null,
      "metadata": {
        "colab": {
          "base_uri": "https://localhost:8080/"
        },
        "id": "nHg8ZweVWSW7",
        "outputId": "feca301c-b918-41bb-bd46-7cb6a4af98d8"
      },
      "outputs": [
        {
          "name": "stderr",
          "output_type": "stream",
          "text": [
            "BertSdpaSelfAttention is used but `torch.nn.functional.scaled_dot_product_attention` does not support non-absolute `position_embedding_type` or `output_attentions=True` or `head_mask`. Falling back to the manual attention implementation, but specifying the manual implementation will be required from Transformers version v5.0.0 onwards. This warning can be removed using the argument `attn_implementation=\"eager\"` when loading the model.\n"
          ]
        }
      ],
      "source": [
        "tokenizer = BertTokenizer.from_pretrained('bert-base-uncased')\n",
        "model = BertModel.from_pretrained(\"bert-base-uncased\",output_hidden_states=True, output_attentions=True)\n",
        "inputs = tokenizer(\"hello,how are you?\",return_tensors=\"pt\")\n",
        "outputs = model(**inputs)\n",
        "\n",
        "last_hidden_state = outputs.last_hidden_state\n",
        "pooler_output = outputs.pooler_output\n",
        "hidden_states = outputs.hidden_states\n",
        "attentions = outputs.attentions"
      ]
    },
    {
      "cell_type": "code",
      "execution_count": null,
      "metadata": {
        "colab": {
          "base_uri": "https://localhost:8080/"
        },
        "id": "z2rhjRBuZbqp",
        "outputId": "ed936cce-3962-4575-abd4-7bc09da6bc52"
      },
      "outputs": [
        {
          "data": {
            "text/plain": [
              "12"
            ]
          },
          "execution_count": 8,
          "metadata": {},
          "output_type": "execute_result"
        }
      ],
      "source": [
        "len(attentions)"
      ]
    },
    {
      "cell_type": "code",
      "execution_count": null,
      "metadata": {
        "colab": {
          "base_uri": "https://localhost:8080/",
          "height": 177
        },
        "id": "h4J5mj-lZegL",
        "outputId": "2392ddca-aa18-4eca-e6f2-e0678de95398"
      },
      "outputs": [
        {
          "data": {
            "application/vnd.jupyter.widget-view+json": {
              "model_id": "846ca0ab24e04735a74f828475410927",
              "version_major": 2,
              "version_minor": 0
            },
            "text/plain": [
              "tokenizer_config.json:   0%|          | 0.00/48.0 [00:00<?, ?B/s]"
            ]
          },
          "metadata": {},
          "output_type": "display_data"
        },
        {
          "data": {
            "application/vnd.jupyter.widget-view+json": {
              "model_id": "de2469b9cae24c87b11a687d190e0e9b",
              "version_major": 2,
              "version_minor": 0
            },
            "text/plain": [
              "config.json:   0%|          | 0.00/483 [00:00<?, ?B/s]"
            ]
          },
          "metadata": {},
          "output_type": "display_data"
        },
        {
          "data": {
            "application/vnd.jupyter.widget-view+json": {
              "model_id": "74afa723a9d5426a954215eb4e58296e",
              "version_major": 2,
              "version_minor": 0
            },
            "text/plain": [
              "vocab.txt:   0%|          | 0.00/232k [00:00<?, ?B/s]"
            ]
          },
          "metadata": {},
          "output_type": "display_data"
        },
        {
          "data": {
            "application/vnd.jupyter.widget-view+json": {
              "model_id": "38f0c480ffd74cd099d05228933f5c88",
              "version_major": 2,
              "version_minor": 0
            },
            "text/plain": [
              "tokenizer.json:   0%|          | 0.00/466k [00:00<?, ?B/s]"
            ]
          },
          "metadata": {},
          "output_type": "display_data"
        },
        {
          "data": {
            "application/vnd.jupyter.widget-view+json": {
              "model_id": "50aaacb933ce40629f34e239ac994461",
              "version_major": 2,
              "version_minor": 0
            },
            "text/plain": [
              "model.safetensors:   0%|          | 0.00/268M [00:00<?, ?B/s]"
            ]
          },
          "metadata": {},
          "output_type": "display_data"
        }
      ],
      "source": [
        "from transformers import AutoTokenizer , AutoModel\n",
        "import torch\n",
        "import torch.nn.functional as F\n",
        "model_name = \"distilbert-base-uncased\"\n",
        "# model_name = \"moonshotai/Kimi-K2-Instruct\"\n",
        "tokenizer = AutoTokenizer.from_pretrained(model_name)\n",
        "model = AutoModel.from_pretrained(model_name)"
      ]
    },
    {
      "cell_type": "code",
      "execution_count": null,
      "metadata": {
        "id": "-V4aIj10c9u_"
      },
      "outputs": [],
      "source": [
        "!pip install transformers tensorflow --quiet"
      ]
    },
    {
      "cell_type": "code",
      "execution_count": null,
      "metadata": {
        "id": "PGH1xRtOevsk"
      },
      "outputs": [],
      "source": [
        "import tensorflow as tf\n",
        "from transformers import TFBertModel,BertTokenizer"
      ]
    },
    {
      "cell_type": "code",
      "execution_count": null,
      "metadata": {
        "id": "4wWIJo3je8x5"
      },
      "outputs": [],
      "source": [
        "# class BertClassifier(tf.keras.Model):\n",
        "#   def __init__(self,\n",
        "#                model_name='bert-base-uncased',num_classes=2):\n",
        "#     super(BertClassifier,self).__init__()\n",
        "#     self.bert = TFBertModel.from_pretrained(model_name)\n",
        "#     self.dropout = tf.keras.layers.Dropout(config.hidden_dropout_prob)\n",
        "#     self.classifier = tf.keras.layers.Dense(num_classes,activation='softmax')\n",
        "import tensorflow as tf\n",
        "from transformers import TFBertModel, BertTokenizer\n",
        "class BertClassifier(tf.keras.Model):\n",
        "  def __init__ (self, model_name='bert-base-uncased', num_classes=2):\n",
        "    super(BertClassifier, self) .__init__()\n",
        "    self.bert = TFBertModel.from_pretrained(model_name)\n",
        "    self.dropout = tf.keras. layers.Dropout (0.3)\n",
        "    self.classifier = tf.keras. layers. Dense(num_classes, activation=\"softmax\")\n",
        "  def call(self, inputs, training=False):\n",
        "    outputs = self.bert(\n",
        "        input_ids=inputs['input_ids'],\n",
        "        attention_mask=inputs['attention_mask'],\n",
        "        token_type_ids=inputs.get('token_type_ids', None),\n",
        "        training=training\n",
        "    )\n",
        "    cls_output = outputs.pooler_output           # [CLS] token representation\n",
        "    x = self.dropout(cls_output, training=training)\n",
        "    return self.classifier(x)"
      ]
    },
    {
      "cell_type": "code",
      "execution_count": null,
      "metadata": {
        "id": "GKzodmbKgQSP"
      },
      "outputs": [],
      "source": [
        "tokenizer = BertTokenizer.from_pretrained('bert-base-uncased')\n",
        "text = \"I really loved the new iPhone\"\n",
        "encoded_input = tokenizer(text,return_tensors='tf')\n",
        "# output = model(**encoded_input)"
      ]
    },
    {
      "cell_type": "code",
      "execution_count": null,
      "metadata": {
        "colab": {
          "base_uri": "https://localhost:8080/"
        },
        "id": "g54r2vpThXoy",
        "outputId": "72a5d876-7046-47e4-88aa-135455f09196"
      },
      "outputs": [
        {
          "name": "stderr",
          "output_type": "stream",
          "text": [
            "Some weights of the PyTorch model were not used when initializing the TF 2.0 model TFBertModel: ['cls.predictions.transform.LayerNorm.weight', 'cls.seq_relationship.bias', 'cls.predictions.transform.LayerNorm.bias', 'cls.seq_relationship.weight', 'cls.predictions.bias', 'cls.predictions.transform.dense.bias', 'cls.predictions.transform.dense.weight']\n",
            "- This IS expected if you are initializing TFBertModel from a PyTorch model trained on another task or with another architecture (e.g. initializing a TFBertForSequenceClassification model from a BertForPreTraining model).\n",
            "- This IS NOT expected if you are initializing TFBertModel from a PyTorch model that you expect to be exactly identical (e.g. initializing a TFBertForSequenceClassification model from a BertForSequenceClassification model).\n",
            "All the weights of TFBertModel were initialized from the PyTorch model.\n",
            "If your task is similar to the task the model of the checkpoint was trained on, you can already use TFBertModel for predictions without further training.\n"
          ]
        },
        {
          "name": "stdout",
          "output_type": "stream",
          "text": [
            "Predicted class: 0, Confidence: 0.6746\n"
          ]
        }
      ],
      "source": [
        "# Load custom model\n",
        "model = BertClassifier(num_classes=2)\n",
        "# Disable training behavior\n",
        "model.trainable = False\n",
        "# Run prediction\n",
        "logits = model(encoded_input, training=False)\n",
        "predicted_class = tf.argmax(logits, axis=1).numpy()[0]\n",
        "confidence = tf.reduce_max(logits, axis=1).numpy()[0]\n",
        "print(f\"Predicted class: {predicted_class}, Confidence: {confidence:.4f}\")"
      ]
    },
    {
      "cell_type": "code",
      "execution_count": null,
      "metadata": {
        "id": "-WpgOlAvhqo_"
      },
      "outputs": [],
      "source": [
        "!pip install -q huggingface_hub"
      ]
    },
    {
      "cell_type": "code",
      "execution_count": null,
      "metadata": {
        "id": "1JeoouBoj556"
      },
      "outputs": [],
      "source": [
        "!pip install -q transformers"
      ]
    },
    {
      "cell_type": "code",
      "execution_count": null,
      "metadata": {
        "colab": {
          "base_uri": "https://localhost:8080/"
        },
        "id": "7YZHQe3Ej_97",
        "outputId": "37ab57e9-13ac-43e3-eb77-da3c21c3f341"
      },
      "outputs": [
        {
          "name": "stdout",
          "output_type": "stream",
          "text": [
            "Requirement already satisfied: datasets in /usr/local/lib/python3.11/dist-packages (2.14.4)\n",
            "Collecting datasets\n",
            "  Downloading datasets-4.0.0-py3-none-any.whl.metadata (19 kB)\n",
            "Requirement already satisfied: filelock in /usr/local/lib/python3.11/dist-packages (from datasets) (3.18.0)\n",
            "Requirement already satisfied: numpy>=1.17 in /usr/local/lib/python3.11/dist-packages (from datasets) (2.0.2)\n",
            "Requirement already satisfied: pyarrow>=15.0.0 in /usr/local/lib/python3.11/dist-packages (from datasets) (18.1.0)\n",
            "Requirement already satisfied: dill<0.3.9,>=0.3.0 in /usr/local/lib/python3.11/dist-packages (from datasets) (0.3.7)\n",
            "Requirement already satisfied: pandas in /usr/local/lib/python3.11/dist-packages (from datasets) (2.2.2)\n",
            "Requirement already satisfied: requests>=2.32.2 in /usr/local/lib/python3.11/dist-packages (from datasets) (2.32.3)\n",
            "Requirement already satisfied: tqdm>=4.66.3 in /usr/local/lib/python3.11/dist-packages (from datasets) (4.67.1)\n",
            "Requirement already satisfied: xxhash in /usr/local/lib/python3.11/dist-packages (from datasets) (3.5.0)\n",
            "Requirement already satisfied: multiprocess<0.70.17 in /usr/local/lib/python3.11/dist-packages (from datasets) (0.70.15)\n",
            "Collecting fsspec<=2025.3.0,>=2023.1.0 (from fsspec[http]<=2025.3.0,>=2023.1.0->datasets)\n",
            "  Downloading fsspec-2025.3.0-py3-none-any.whl.metadata (11 kB)\n",
            "Requirement already satisfied: huggingface-hub>=0.24.0 in /usr/local/lib/python3.11/dist-packages (from datasets) (0.33.4)\n",
            "Requirement already satisfied: packaging in /usr/local/lib/python3.11/dist-packages (from datasets) (25.0)\n",
            "Requirement already satisfied: pyyaml>=5.1 in /usr/local/lib/python3.11/dist-packages (from datasets) (6.0.2)\n",
            "Requirement already satisfied: aiohttp!=4.0.0a0,!=4.0.0a1 in /usr/local/lib/python3.11/dist-packages (from fsspec[http]<=2025.3.0,>=2023.1.0->datasets) (3.11.15)\n",
            "Requirement already satisfied: typing-extensions>=3.7.4.3 in /usr/local/lib/python3.11/dist-packages (from huggingface-hub>=0.24.0->datasets) (4.14.1)\n",
            "Requirement already satisfied: hf-xet<2.0.0,>=1.1.2 in /usr/local/lib/python3.11/dist-packages (from huggingface-hub>=0.24.0->datasets) (1.1.5)\n",
            "Requirement already satisfied: charset-normalizer<4,>=2 in /usr/local/lib/python3.11/dist-packages (from requests>=2.32.2->datasets) (3.4.2)\n",
            "Requirement already satisfied: idna<4,>=2.5 in /usr/local/lib/python3.11/dist-packages (from requests>=2.32.2->datasets) (3.10)\n",
            "Requirement already satisfied: urllib3<3,>=1.21.1 in /usr/local/lib/python3.11/dist-packages (from requests>=2.32.2->datasets) (2.5.0)\n",
            "Requirement already satisfied: certifi>=2017.4.17 in /usr/local/lib/python3.11/dist-packages (from requests>=2.32.2->datasets) (2025.7.14)\n",
            "Requirement already satisfied: python-dateutil>=2.8.2 in /usr/local/lib/python3.11/dist-packages (from pandas->datasets) (2.9.0.post0)\n",
            "Requirement already satisfied: pytz>=2020.1 in /usr/local/lib/python3.11/dist-packages (from pandas->datasets) (2025.2)\n",
            "Requirement already satisfied: tzdata>=2022.7 in /usr/local/lib/python3.11/dist-packages (from pandas->datasets) (2025.2)\n",
            "Requirement already satisfied: aiohappyeyeballs>=2.3.0 in /usr/local/lib/python3.11/dist-packages (from aiohttp!=4.0.0a0,!=4.0.0a1->fsspec[http]<=2025.3.0,>=2023.1.0->datasets) (2.6.1)\n",
            "Requirement already satisfied: aiosignal>=1.1.2 in /usr/local/lib/python3.11/dist-packages (from aiohttp!=4.0.0a0,!=4.0.0a1->fsspec[http]<=2025.3.0,>=2023.1.0->datasets) (1.4.0)\n",
            "Requirement already satisfied: attrs>=17.3.0 in /usr/local/lib/python3.11/dist-packages (from aiohttp!=4.0.0a0,!=4.0.0a1->fsspec[http]<=2025.3.0,>=2023.1.0->datasets) (25.3.0)\n",
            "Requirement already satisfied: frozenlist>=1.1.1 in /usr/local/lib/python3.11/dist-packages (from aiohttp!=4.0.0a0,!=4.0.0a1->fsspec[http]<=2025.3.0,>=2023.1.0->datasets) (1.7.0)\n",
            "Requirement already satisfied: multidict<7.0,>=4.5 in /usr/local/lib/python3.11/dist-packages (from aiohttp!=4.0.0a0,!=4.0.0a1->fsspec[http]<=2025.3.0,>=2023.1.0->datasets) (6.6.3)\n",
            "Requirement already satisfied: propcache>=0.2.0 in /usr/local/lib/python3.11/dist-packages (from aiohttp!=4.0.0a0,!=4.0.0a1->fsspec[http]<=2025.3.0,>=2023.1.0->datasets) (0.3.2)\n",
            "Requirement already satisfied: yarl<2.0,>=1.17.0 in /usr/local/lib/python3.11/dist-packages (from aiohttp!=4.0.0a0,!=4.0.0a1->fsspec[http]<=2025.3.0,>=2023.1.0->datasets) (1.20.1)\n",
            "Requirement already satisfied: six>=1.5 in /usr/local/lib/python3.11/dist-packages (from python-dateutil>=2.8.2->pandas->datasets) (1.17.0)\n",
            "Downloading datasets-4.0.0-py3-none-any.whl (494 kB)\n",
            "\u001b[2K   \u001b[90m━━━━━━━━━━━━━━━━━━━━━━━━━━━━━━━━━━━━━━━━\u001b[0m \u001b[32m494.8/494.8 kB\u001b[0m \u001b[31m8.2 MB/s\u001b[0m eta \u001b[36m0:00:00\u001b[0m\n",
            "\u001b[?25hDownloading fsspec-2025.3.0-py3-none-any.whl (193 kB)\n",
            "\u001b[2K   \u001b[90m━━━━━━━━━━━━━━━━━━━━━━━━━━━━━━━━━━━━━━━━\u001b[0m \u001b[32m193.6/193.6 kB\u001b[0m \u001b[31m10.6 MB/s\u001b[0m eta \u001b[36m0:00:00\u001b[0m\n",
            "\u001b[?25hInstalling collected packages: fsspec, datasets\n",
            "  Attempting uninstall: fsspec\n",
            "    Found existing installation: fsspec 2025.7.0\n",
            "    Uninstalling fsspec-2025.7.0:\n",
            "      Successfully uninstalled fsspec-2025.7.0\n",
            "  Attempting uninstall: datasets\n",
            "    Found existing installation: datasets 2.14.4\n",
            "    Uninstalling datasets-2.14.4:\n",
            "      Successfully uninstalled datasets-2.14.4\n",
            "\u001b[31mERROR: pip's dependency resolver does not currently take into account all the packages that are installed. This behaviour is the source of the following dependency conflicts.\n",
            "gcsfs 2025.7.0 requires fsspec==2025.7.0, but you have fsspec 2025.3.0 which is incompatible.\n",
            "torch 2.6.0+cu124 requires nvidia-cublas-cu12==12.4.5.8; platform_system == \"Linux\" and platform_machine == \"x86_64\", but you have nvidia-cublas-cu12 12.5.3.2 which is incompatible.\n",
            "torch 2.6.0+cu124 requires nvidia-cuda-cupti-cu12==12.4.127; platform_system == \"Linux\" and platform_machine == \"x86_64\", but you have nvidia-cuda-cupti-cu12 12.5.82 which is incompatible.\n",
            "torch 2.6.0+cu124 requires nvidia-cuda-nvrtc-cu12==12.4.127; platform_system == \"Linux\" and platform_machine == \"x86_64\", but you have nvidia-cuda-nvrtc-cu12 12.5.82 which is incompatible.\n",
            "torch 2.6.0+cu124 requires nvidia-cuda-runtime-cu12==12.4.127; platform_system == \"Linux\" and platform_machine == \"x86_64\", but you have nvidia-cuda-runtime-cu12 12.5.82 which is incompatible.\n",
            "torch 2.6.0+cu124 requires nvidia-cudnn-cu12==9.1.0.70; platform_system == \"Linux\" and platform_machine == \"x86_64\", but you have nvidia-cudnn-cu12 9.3.0.75 which is incompatible.\n",
            "torch 2.6.0+cu124 requires nvidia-cufft-cu12==11.2.1.3; platform_system == \"Linux\" and platform_machine == \"x86_64\", but you have nvidia-cufft-cu12 11.2.3.61 which is incompatible.\n",
            "torch 2.6.0+cu124 requires nvidia-curand-cu12==10.3.5.147; platform_system == \"Linux\" and platform_machine == \"x86_64\", but you have nvidia-curand-cu12 10.3.6.82 which is incompatible.\n",
            "torch 2.6.0+cu124 requires nvidia-cusolver-cu12==11.6.1.9; platform_system == \"Linux\" and platform_machine == \"x86_64\", but you have nvidia-cusolver-cu12 11.6.3.83 which is incompatible.\n",
            "torch 2.6.0+cu124 requires nvidia-cusparse-cu12==12.3.1.170; platform_system == \"Linux\" and platform_machine == \"x86_64\", but you have nvidia-cusparse-cu12 12.5.1.3 which is incompatible.\n",
            "torch 2.6.0+cu124 requires nvidia-nvjitlink-cu12==12.4.127; platform_system == \"Linux\" and platform_machine == \"x86_64\", but you have nvidia-nvjitlink-cu12 12.5.82 which is incompatible.\u001b[0m\u001b[31m\n",
            "\u001b[0mSuccessfully installed datasets-4.0.0 fsspec-2025.3.0\n"
          ]
        }
      ],
      "source": [
        "!pip install -U datasets"
      ]
    },
    {
      "cell_type": "code",
      "execution_count": null,
      "metadata": {
        "id": "EzOWeBiWkHw2"
      },
      "outputs": [],
      "source": [
        "from google.colab import userdata\n",
        "key1 = userdata.get('sample')"
      ]
    },
    {
      "cell_type": "code",
      "execution_count": null,
      "metadata": {
        "colab": {
          "background_save": true,
          "base_uri": "https://localhost:8080/",
          "height": 1000
        },
        "id": "y5612tm4mITe",
        "outputId": "81b18bf2-54c6-43d8-f039-dc583e80e54b"
      },
      "outputs": [
        {
          "data": {
            "application/vnd.jupyter.widget-view+json": {
              "model_id": "40d86cb4fb4f4253b1b4dbcea7aae0ad",
              "version_major": 2,
              "version_minor": 0
            },
            "text/plain": [
              "README.md: 0.00B [00:00, ?B/s]"
            ]
          },
          "metadata": {},
          "output_type": "display_data"
        },
        {
          "data": {
            "application/vnd.jupyter.widget-view+json": {
              "model_id": "d766680d94e24445be432308f2c88e35",
              "version_major": 2,
              "version_minor": 0
            },
            "text/plain": [
              "Resolving data files:   0%|          | 0/173 [00:00<?, ?it/s]"
            ]
          },
          "metadata": {},
          "output_type": "display_data"
        },
        {
          "data": {
            "application/vnd.jupyter.widget-view+json": {
              "model_id": "3add97cc97ca4691afe8e16e4689b9ce",
              "version_major": 2,
              "version_minor": 0
            },
            "text/plain": [
              "Downloading data:   0%|          | 0/173 [00:00<?, ?files/s]"
            ]
          },
          "metadata": {},
          "output_type": "display_data"
        },
        {
          "data": {
            "application/vnd.jupyter.widget-view+json": {
              "model_id": "a7bfabf2cccf4c4687049a9045fda475",
              "version_major": 2,
              "version_minor": 0
            },
            "text/plain": [
              "cap_00000.jsonl.gz:   0%|          | 0.00/226M [00:00<?, ?B/s]"
            ]
          },
          "metadata": {},
          "output_type": "display_data"
        },
        {
          "data": {
            "application/vnd.jupyter.widget-view+json": {
              "model_id": "18cec19f4431403eb3d345a9b49409ac",
              "version_major": 2,
              "version_minor": 0
            },
            "text/plain": [
              "cap_00001.jsonl.gz:   0%|          | 0.00/283M [00:00<?, ?B/s]"
            ]
          },
          "metadata": {},
          "output_type": "display_data"
        },
        {
          "data": {
            "application/vnd.jupyter.widget-view+json": {
              "model_id": "879aec8d4512462a80ccfc5f8eb8e2a5",
              "version_major": 2,
              "version_minor": 0
            },
            "text/plain": [
              "cap_00002.jsonl.gz:   0%|          | 0.00/164M [00:00<?, ?B/s]"
            ]
          },
          "metadata": {},
          "output_type": "display_data"
        },
        {
          "data": {
            "application/vnd.jupyter.widget-view+json": {
              "model_id": "dccc559acfe3441bba7c8e28ae9e4751",
              "version_major": 2,
              "version_minor": 0
            },
            "text/plain": [
              "cap_00003.jsonl.gz:   0%|          | 0.00/252M [00:00<?, ?B/s]"
            ]
          },
          "metadata": {},
          "output_type": "display_data"
        },
        {
          "data": {
            "application/vnd.jupyter.widget-view+json": {
              "model_id": "129583c0b029452186ad7d1378f1e25e",
              "version_major": 2,
              "version_minor": 0
            },
            "text/plain": [
              "cap_00004.jsonl.gz:   0%|          | 0.00/123M [00:00<?, ?B/s]"
            ]
          },
          "metadata": {},
          "output_type": "display_data"
        },
        {
          "data": {
            "application/vnd.jupyter.widget-view+json": {
              "model_id": "4843ecf9355447e0b58b2cd36b84aab8",
              "version_major": 2,
              "version_minor": 0
            },
            "text/plain": [
              "cap_00005.jsonl.gz:   0%|          | 0.00/66.1M [00:00<?, ?B/s]"
            ]
          },
          "metadata": {},
          "output_type": "display_data"
        },
        {
          "data": {
            "application/vnd.jupyter.widget-view+json": {
              "model_id": "b6266251e8f74a558cd95de757fd2eac",
              "version_major": 2,
              "version_minor": 0
            },
            "text/plain": [
              "cap_00006.jsonl.gz:   0%|          | 0.00/157M [00:00<?, ?B/s]"
            ]
          },
          "metadata": {},
          "output_type": "display_data"
        },
        {
          "data": {
            "application/vnd.jupyter.widget-view+json": {
              "model_id": "b1bb835746934992a81882844af6baf0",
              "version_major": 2,
              "version_minor": 0
            },
            "text/plain": [
              "cap_00007.jsonl.gz:   0%|          | 0.00/160M [00:00<?, ?B/s]"
            ]
          },
          "metadata": {},
          "output_type": "display_data"
        },
        {
          "data": {
            "application/vnd.jupyter.widget-view+json": {
              "model_id": "4e55b7401b9640af9a9b8617e02d11d7",
              "version_major": 2,
              "version_minor": 0
            },
            "text/plain": [
              "cap_00008.jsonl.gz:   0%|          | 0.00/138M [00:00<?, ?B/s]"
            ]
          },
          "metadata": {},
          "output_type": "display_data"
        },
        {
          "data": {
            "application/vnd.jupyter.widget-view+json": {
              "model_id": "f0bee6edb2064cb1bda47002ebb2451b",
              "version_major": 2,
              "version_minor": 0
            },
            "text/plain": [
              "cap_00009.jsonl.gz:   0%|          | 0.00/150M [00:00<?, ?B/s]"
            ]
          },
          "metadata": {},
          "output_type": "display_data"
        },
        {
          "data": {
            "application/vnd.jupyter.widget-view+json": {
              "model_id": "4c3c832866664e67ad54aaf0a2febf1d",
              "version_major": 2,
              "version_minor": 0
            },
            "text/plain": [
              "cap_00010.jsonl.gz:   0%|          | 0.00/226M [00:00<?, ?B/s]"
            ]
          },
          "metadata": {},
          "output_type": "display_data"
        },
        {
          "data": {
            "application/vnd.jupyter.widget-view+json": {
              "model_id": "e64ab8148a164ec78af62101e602a72c",
              "version_major": 2,
              "version_minor": 0
            },
            "text/plain": [
              "cap_00011.jsonl.gz:   0%|          | 0.00/169M [00:00<?, ?B/s]"
            ]
          },
          "metadata": {},
          "output_type": "display_data"
        },
        {
          "data": {
            "application/vnd.jupyter.widget-view+json": {
              "model_id": "3d447cd37303455bb7521e2055d9f828",
              "version_major": 2,
              "version_minor": 0
            },
            "text/plain": [
              "cap_00012.jsonl.gz:   0%|          | 0.00/336M [00:00<?, ?B/s]"
            ]
          },
          "metadata": {},
          "output_type": "display_data"
        },
        {
          "data": {
            "application/vnd.jupyter.widget-view+json": {
              "model_id": "4ba93f33b4a34580b890da1102757c72",
              "version_major": 2,
              "version_minor": 0
            },
            "text/plain": [
              "cap_00013.jsonl.gz:   0%|          | 0.00/104M [00:00<?, ?B/s]"
            ]
          },
          "metadata": {},
          "output_type": "display_data"
        },
        {
          "data": {
            "application/vnd.jupyter.widget-view+json": {
              "model_id": "b7b6541fadde4bd280dc92d9456403bf",
              "version_major": 2,
              "version_minor": 0
            },
            "text/plain": [
              "cap_00014.jsonl.gz:   0%|          | 0.00/102M [00:00<?, ?B/s]"
            ]
          },
          "metadata": {},
          "output_type": "display_data"
        },
        {
          "data": {
            "application/vnd.jupyter.widget-view+json": {
              "model_id": "942344fd85ac4d439411e9b1451b86b7",
              "version_major": 2,
              "version_minor": 0
            },
            "text/plain": [
              "cap_00015.jsonl.gz:   0%|          | 0.00/104M [00:00<?, ?B/s]"
            ]
          },
          "metadata": {},
          "output_type": "display_data"
        },
        {
          "data": {
            "application/vnd.jupyter.widget-view+json": {
              "model_id": "f6b57ea14b6b474494229c33d1bf49c2",
              "version_major": 2,
              "version_minor": 0
            },
            "text/plain": [
              "cap_00016.jsonl.gz:   0%|          | 0.00/212M [00:00<?, ?B/s]"
            ]
          },
          "metadata": {},
          "output_type": "display_data"
        },
        {
          "data": {
            "application/vnd.jupyter.widget-view+json": {
              "model_id": "1b1c9cf3c966422e983df983f665d4a2",
              "version_major": 2,
              "version_minor": 0
            },
            "text/plain": [
              "cap_00017.jsonl.gz:   0%|          | 0.00/108M [00:00<?, ?B/s]"
            ]
          },
          "metadata": {},
          "output_type": "display_data"
        },
        {
          "data": {
            "application/vnd.jupyter.widget-view+json": {
              "model_id": "3b04e9c70bd74a16af53094ca779e2fd",
              "version_major": 2,
              "version_minor": 0
            },
            "text/plain": [
              "cap_00018.jsonl.gz:   0%|          | 0.00/138M [00:00<?, ?B/s]"
            ]
          },
          "metadata": {},
          "output_type": "display_data"
        },
        {
          "data": {
            "application/vnd.jupyter.widget-view+json": {
              "model_id": "0e147cf7034e4809a587f1b440c59180",
              "version_major": 2,
              "version_minor": 0
            },
            "text/plain": [
              "cap_00019.jsonl.gz:   0%|          | 0.00/148M [00:00<?, ?B/s]"
            ]
          },
          "metadata": {},
          "output_type": "display_data"
        },
        {
          "data": {
            "application/vnd.jupyter.widget-view+json": {
              "model_id": "c6c4e70dd602487ca36676526760bf39",
              "version_major": 2,
              "version_minor": 0
            },
            "text/plain": [
              "cap_00020.jsonl.gz:   0%|          | 0.00/96.3M [00:00<?, ?B/s]"
            ]
          },
          "metadata": {},
          "output_type": "display_data"
        },
        {
          "data": {
            "application/vnd.jupyter.widget-view+json": {
              "model_id": "66aa80051d3649e38b28ef14fa7c2569",
              "version_major": 2,
              "version_minor": 0
            },
            "text/plain": [
              "cap_00021.jsonl.gz:   0%|          | 0.00/71.0M [00:00<?, ?B/s]"
            ]
          },
          "metadata": {},
          "output_type": "display_data"
        },
        {
          "data": {
            "application/vnd.jupyter.widget-view+json": {
              "model_id": "50623a1e5b894cebaf23a6d510aa0905",
              "version_major": 2,
              "version_minor": 0
            },
            "text/plain": [
              "cap_00022.jsonl.gz:   0%|          | 0.00/75.7M [00:00<?, ?B/s]"
            ]
          },
          "metadata": {},
          "output_type": "display_data"
        },
        {
          "data": {
            "application/vnd.jupyter.widget-view+json": {
              "model_id": "534f122a985e45dfa0e76d8abb72dfa4",
              "version_major": 2,
              "version_minor": 0
            },
            "text/plain": [
              "cap_00023.jsonl.gz:   0%|          | 0.00/142M [00:00<?, ?B/s]"
            ]
          },
          "metadata": {},
          "output_type": "display_data"
        },
        {
          "data": {
            "application/vnd.jupyter.widget-view+json": {
              "model_id": "04fe0025892143ecb6bc884bc504a07e",
              "version_major": 2,
              "version_minor": 0
            },
            "text/plain": [
              "cap_00024.jsonl.gz:   0%|          | 0.00/174M [00:00<?, ?B/s]"
            ]
          },
          "metadata": {},
          "output_type": "display_data"
        },
        {
          "data": {
            "application/vnd.jupyter.widget-view+json": {
              "model_id": "9ec4edf40ad74623a00ffd7905d858b8",
              "version_major": 2,
              "version_minor": 0
            },
            "text/plain": [
              "cap_00025.jsonl.gz:   0%|          | 0.00/103M [00:00<?, ?B/s]"
            ]
          },
          "metadata": {},
          "output_type": "display_data"
        },
        {
          "data": {
            "application/vnd.jupyter.widget-view+json": {
              "model_id": "a1b023cc24b043adb0624e368b05d9cb",
              "version_major": 2,
              "version_minor": 0
            },
            "text/plain": [
              "cap_00026.jsonl.gz:   0%|          | 0.00/63.5M [00:00<?, ?B/s]"
            ]
          },
          "metadata": {},
          "output_type": "display_data"
        },
        {
          "data": {
            "application/vnd.jupyter.widget-view+json": {
              "model_id": "c653f8eb749046799a6ef47aaa8243db",
              "version_major": 2,
              "version_minor": 0
            },
            "text/plain": [
              "cap_00027.jsonl.gz:   0%|          | 0.00/84.4M [00:00<?, ?B/s]"
            ]
          },
          "metadata": {},
          "output_type": "display_data"
        },
        {
          "data": {
            "application/vnd.jupyter.widget-view+json": {
              "model_id": "9e8362a1e7934e15a9e06bacae1b8304",
              "version_major": 2,
              "version_minor": 0
            },
            "text/plain": [
              "cap_00028.jsonl.gz:   0%|          | 0.00/116M [00:00<?, ?B/s]"
            ]
          },
          "metadata": {},
          "output_type": "display_data"
        },
        {
          "data": {
            "application/vnd.jupyter.widget-view+json": {
              "model_id": "0d1700e85d884a5c91f3c7ae2bce2743",
              "version_major": 2,
              "version_minor": 0
            },
            "text/plain": [
              "cap_00029.jsonl.gz:   0%|          | 0.00/125M [00:00<?, ?B/s]"
            ]
          },
          "metadata": {},
          "output_type": "display_data"
        },
        {
          "data": {
            "application/vnd.jupyter.widget-view+json": {
              "model_id": "61468002c0474b4caf671175a767312b",
              "version_major": 2,
              "version_minor": 0
            },
            "text/plain": [
              "cap_00030.jsonl.gz:   0%|          | 0.00/96.0M [00:00<?, ?B/s]"
            ]
          },
          "metadata": {},
          "output_type": "display_data"
        },
        {
          "data": {
            "application/vnd.jupyter.widget-view+json": {
              "model_id": "955eec3f93884963b4d238940f215290",
              "version_major": 2,
              "version_minor": 0
            },
            "text/plain": [
              "cap_00031.jsonl.gz:   0%|          | 0.00/136M [00:00<?, ?B/s]"
            ]
          },
          "metadata": {},
          "output_type": "display_data"
        },
        {
          "data": {
            "application/vnd.jupyter.widget-view+json": {
              "model_id": "ddc8aca64be243d79ec4f4777f7fdc94",
              "version_major": 2,
              "version_minor": 0
            },
            "text/plain": [
              "cap_00032.jsonl.gz:   0%|          | 0.00/247M [00:00<?, ?B/s]"
            ]
          },
          "metadata": {},
          "output_type": "display_data"
        },
        {
          "data": {
            "application/vnd.jupyter.widget-view+json": {
              "model_id": "ef6050bf25814a0a8ea60920f8fd16f5",
              "version_major": 2,
              "version_minor": 0
            },
            "text/plain": [
              "cap_00033.jsonl.gz:   0%|          | 0.00/340M [00:00<?, ?B/s]"
            ]
          },
          "metadata": {},
          "output_type": "display_data"
        },
        {
          "data": {
            "application/vnd.jupyter.widget-view+json": {
              "model_id": "4727059e2ee34fc1a990b0d110f1f435",
              "version_major": 2,
              "version_minor": 0
            },
            "text/plain": [
              "cap_00034.jsonl.gz:   0%|          | 0.00/122M [00:00<?, ?B/s]"
            ]
          },
          "metadata": {},
          "output_type": "display_data"
        },
        {
          "data": {
            "application/vnd.jupyter.widget-view+json": {
              "model_id": "ef53c821e1be445397e5297666262ce0",
              "version_major": 2,
              "version_minor": 0
            },
            "text/plain": [
              "cap_00035.jsonl.gz:   0%|          | 0.00/42.6M [00:00<?, ?B/s]"
            ]
          },
          "metadata": {},
          "output_type": "display_data"
        },
        {
          "data": {
            "application/vnd.jupyter.widget-view+json": {
              "model_id": "7dd5920cc15f4aef8ba3a699c84638b4",
              "version_major": 2,
              "version_minor": 0
            },
            "text/plain": [
              "cap_00036.jsonl.gz:   0%|          | 0.00/76.4M [00:00<?, ?B/s]"
            ]
          },
          "metadata": {},
          "output_type": "display_data"
        },
        {
          "data": {
            "application/vnd.jupyter.widget-view+json": {
              "model_id": "b4c7f864f4d640b69dfa3b9dda249178",
              "version_major": 2,
              "version_minor": 0
            },
            "text/plain": [
              "cap_00037.jsonl.gz:   0%|          | 0.00/219M [00:00<?, ?B/s]"
            ]
          },
          "metadata": {},
          "output_type": "display_data"
        },
        {
          "data": {
            "application/vnd.jupyter.widget-view+json": {
              "model_id": "89ef0e6f8036471893a33b5d23a2e5e4",
              "version_major": 2,
              "version_minor": 0
            },
            "text/plain": [
              "cap_00038.jsonl.gz:   0%|          | 0.00/143M [00:00<?, ?B/s]"
            ]
          },
          "metadata": {},
          "output_type": "display_data"
        },
        {
          "data": {
            "application/vnd.jupyter.widget-view+json": {
              "model_id": "df356ccfef5c4d5b9ff3544adcd61cad",
              "version_major": 2,
              "version_minor": 0
            },
            "text/plain": [
              "cap_00039.jsonl.gz:   0%|          | 0.00/102M [00:00<?, ?B/s]"
            ]
          },
          "metadata": {},
          "output_type": "display_data"
        },
        {
          "data": {
            "application/vnd.jupyter.widget-view+json": {
              "model_id": "36ed58100db848b4bd5867c7ea621718",
              "version_major": 2,
              "version_minor": 0
            },
            "text/plain": [
              "cap_00040.jsonl.gz:   0%|          | 0.00/342M [00:00<?, ?B/s]"
            ]
          },
          "metadata": {},
          "output_type": "display_data"
        },
        {
          "data": {
            "application/vnd.jupyter.widget-view+json": {
              "model_id": "1b9177a8d7fe4a1eba85af61728dc29c",
              "version_major": 2,
              "version_minor": 0
            },
            "text/plain": [
              "cap_00041.jsonl.gz:   0%|          | 0.00/142M [00:00<?, ?B/s]"
            ]
          },
          "metadata": {},
          "output_type": "display_data"
        },
        {
          "data": {
            "application/vnd.jupyter.widget-view+json": {
              "model_id": "a40aa94265714b8b9af2dd36d5c3a357",
              "version_major": 2,
              "version_minor": 0
            },
            "text/plain": [
              "cap_00042.jsonl.gz:   0%|          | 0.00/28.8M [00:00<?, ?B/s]"
            ]
          },
          "metadata": {},
          "output_type": "display_data"
        },
        {
          "data": {
            "application/vnd.jupyter.widget-view+json": {
              "model_id": "a417e33c3b9a4c89884c1099841f6582",
              "version_major": 2,
              "version_minor": 0
            },
            "text/plain": [
              "cap_00043.jsonl.gz:   0%|          | 0.00/10.5M [00:00<?, ?B/s]"
            ]
          },
          "metadata": {},
          "output_type": "display_data"
        },
        {
          "data": {
            "application/vnd.jupyter.widget-view+json": {
              "model_id": "f75b2c4da99647aa89ec783725d54195",
              "version_major": 2,
              "version_minor": 0
            },
            "text/plain": [
              "cap_00044.jsonl.gz:   0%|          | 0.00/9.44M [00:00<?, ?B/s]"
            ]
          },
          "metadata": {},
          "output_type": "display_data"
        },
        {
          "data": {
            "application/vnd.jupyter.widget-view+json": {
              "model_id": "21bdbb0228c2465eaddb27b7f070b283",
              "version_major": 2,
              "version_minor": 0
            },
            "text/plain": [
              "cap_00045.jsonl.gz:   0%|          | 0.00/24.3M [00:00<?, ?B/s]"
            ]
          },
          "metadata": {},
          "output_type": "display_data"
        },
        {
          "data": {
            "application/vnd.jupyter.widget-view+json": {
              "model_id": "ab24a3cc880b4dabb23cb854f5fa6c0c",
              "version_major": 2,
              "version_minor": 0
            },
            "text/plain": [
              "cap_00046.jsonl.gz:   0%|          | 0.00/27.5M [00:00<?, ?B/s]"
            ]
          },
          "metadata": {},
          "output_type": "display_data"
        },
        {
          "data": {
            "application/vnd.jupyter.widget-view+json": {
              "model_id": "436675ce547a4eca851f1b26e27eecdc",
              "version_major": 2,
              "version_minor": 0
            },
            "text/plain": [
              "cap_00047.jsonl.gz:   0%|          | 0.00/77.2M [00:00<?, ?B/s]"
            ]
          },
          "metadata": {},
          "output_type": "display_data"
        },
        {
          "data": {
            "application/vnd.jupyter.widget-view+json": {
              "model_id": "ced7e490bed04761886b6ba9dc61b826",
              "version_major": 2,
              "version_minor": 0
            },
            "text/plain": [
              "cap_00048.jsonl.gz:   0%|          | 0.00/206M [00:00<?, ?B/s]"
            ]
          },
          "metadata": {},
          "output_type": "display_data"
        },
        {
          "data": {
            "application/vnd.jupyter.widget-view+json": {
              "model_id": "28f6bf1cbe95448cbd590dc45aead319",
              "version_major": 2,
              "version_minor": 0
            },
            "text/plain": [
              "cap_00049.jsonl.gz:   0%|          | 0.00/73.2M [00:00<?, ?B/s]"
            ]
          },
          "metadata": {},
          "output_type": "display_data"
        },
        {
          "data": {
            "application/vnd.jupyter.widget-view+json": {
              "model_id": "80541b23eaf043f29a93aafe28f0c3be",
              "version_major": 2,
              "version_minor": 0
            },
            "text/plain": [
              "cap_00050.jsonl.gz:   0%|          | 0.00/72.4M [00:00<?, ?B/s]"
            ]
          },
          "metadata": {},
          "output_type": "display_data"
        },
        {
          "data": {
            "application/vnd.jupyter.widget-view+json": {
              "model_id": "fcb8c272839d40c7bb737e6026ecda68",
              "version_major": 2,
              "version_minor": 0
            },
            "text/plain": [
              "cap_00051.jsonl.gz:   0%|          | 0.00/149M [00:00<?, ?B/s]"
            ]
          },
          "metadata": {},
          "output_type": "display_data"
        },
        {
          "data": {
            "application/vnd.jupyter.widget-view+json": {
              "model_id": "2d7de21093754150a3d378529c75981e",
              "version_major": 2,
              "version_minor": 0
            },
            "text/plain": [
              "cap_00052.jsonl.gz:   0%|          | 0.00/177M [00:00<?, ?B/s]"
            ]
          },
          "metadata": {},
          "output_type": "display_data"
        },
        {
          "data": {
            "application/vnd.jupyter.widget-view+json": {
              "model_id": "535c4d9efc4142feb2f3f639a3c0be84",
              "version_major": 2,
              "version_minor": 0
            },
            "text/plain": [
              "cap_00053.jsonl.gz:   0%|          | 0.00/163M [00:00<?, ?B/s]"
            ]
          },
          "metadata": {},
          "output_type": "display_data"
        },
        {
          "data": {
            "application/vnd.jupyter.widget-view+json": {
              "model_id": "6134d827e7844af585086ef9cb24a473",
              "version_major": 2,
              "version_minor": 0
            },
            "text/plain": [
              "cap_00054.jsonl.gz:   0%|          | 0.00/123M [00:00<?, ?B/s]"
            ]
          },
          "metadata": {},
          "output_type": "display_data"
        },
        {
          "data": {
            "application/vnd.jupyter.widget-view+json": {
              "model_id": "2d21ac6a06bc497194b82da524167e76",
              "version_major": 2,
              "version_minor": 0
            },
            "text/plain": [
              "cap_00055.jsonl.gz:   0%|          | 0.00/32.5M [00:00<?, ?B/s]"
            ]
          },
          "metadata": {},
          "output_type": "display_data"
        },
        {
          "data": {
            "application/vnd.jupyter.widget-view+json": {
              "model_id": "85211322996a4a21b4b972d8d444604b",
              "version_major": 2,
              "version_minor": 0
            },
            "text/plain": [
              "cap_00056.jsonl.gz:   0%|          | 0.00/29.7M [00:00<?, ?B/s]"
            ]
          },
          "metadata": {},
          "output_type": "display_data"
        },
        {
          "data": {
            "application/vnd.jupyter.widget-view+json": {
              "model_id": "6b971f05ed184f07a6d96ed814909d9b",
              "version_major": 2,
              "version_minor": 0
            },
            "text/plain": [
              "cap_00057.jsonl.gz:   0%|          | 0.00/36.7M [00:00<?, ?B/s]"
            ]
          },
          "metadata": {},
          "output_type": "display_data"
        },
        {
          "data": {
            "application/vnd.jupyter.widget-view+json": {
              "model_id": "0de5eec19f6d4d9dbfd0a049a1558055",
              "version_major": 2,
              "version_minor": 0
            },
            "text/plain": [
              "cap_00058.jsonl.gz:   0%|          | 0.00/38.4M [00:00<?, ?B/s]"
            ]
          },
          "metadata": {},
          "output_type": "display_data"
        },
        {
          "data": {
            "application/vnd.jupyter.widget-view+json": {
              "model_id": "4a53ed1719a44dda93a822d9db0f7ea1",
              "version_major": 2,
              "version_minor": 0
            },
            "text/plain": [
              "cap_00059.jsonl.gz:   0%|          | 0.00/102M [00:00<?, ?B/s]"
            ]
          },
          "metadata": {},
          "output_type": "display_data"
        },
        {
          "data": {
            "application/vnd.jupyter.widget-view+json": {
              "model_id": "f7fdfcc2a56a407ba6b1a404a8e628a2",
              "version_major": 2,
              "version_minor": 0
            },
            "text/plain": [
              "cap_00060.jsonl.gz:   0%|          | 0.00/161M [00:00<?, ?B/s]"
            ]
          },
          "metadata": {},
          "output_type": "display_data"
        },
        {
          "data": {
            "application/vnd.jupyter.widget-view+json": {
              "model_id": "b747ecc9b6ab46d6bb7c8a1b8d360d15",
              "version_major": 2,
              "version_minor": 0
            },
            "text/plain": [
              "cap_00061.jsonl.gz:   0%|          | 0.00/194M [00:00<?, ?B/s]"
            ]
          },
          "metadata": {},
          "output_type": "display_data"
        },
        {
          "data": {
            "application/vnd.jupyter.widget-view+json": {
              "model_id": "f04ca979f8c542ab936d83a9bd1918b6",
              "version_major": 2,
              "version_minor": 0
            },
            "text/plain": [
              "cap_00062.jsonl.gz:   0%|          | 0.00/146M [00:00<?, ?B/s]"
            ]
          },
          "metadata": {},
          "output_type": "display_data"
        },
        {
          "data": {
            "application/vnd.jupyter.widget-view+json": {
              "model_id": "c46a486388a54b1dbf98e7d8273e5385",
              "version_major": 2,
              "version_minor": 0
            },
            "text/plain": [
              "cap_00063.jsonl.gz:   0%|          | 0.00/164M [00:00<?, ?B/s]"
            ]
          },
          "metadata": {},
          "output_type": "display_data"
        },
        {
          "data": {
            "application/vnd.jupyter.widget-view+json": {
              "model_id": "55df5b2907bd4a998cfdbe41f30707d4",
              "version_major": 2,
              "version_minor": 0
            },
            "text/plain": [
              "cap_00064.jsonl.gz:   0%|          | 0.00/150M [00:00<?, ?B/s]"
            ]
          },
          "metadata": {},
          "output_type": "display_data"
        },
        {
          "data": {
            "application/vnd.jupyter.widget-view+json": {
              "model_id": "526c50ea824d477b89b52371b6d8f0f8",
              "version_major": 2,
              "version_minor": 0
            },
            "text/plain": [
              "cap_00065.jsonl.gz:   0%|          | 0.00/179M [00:00<?, ?B/s]"
            ]
          },
          "metadata": {},
          "output_type": "display_data"
        },
        {
          "data": {
            "application/vnd.jupyter.widget-view+json": {
              "model_id": "dcffcea7655345158659eda49a0fcec3",
              "version_major": 2,
              "version_minor": 0
            },
            "text/plain": [
              "cap_00066.jsonl.gz:   0%|          | 0.00/178M [00:00<?, ?B/s]"
            ]
          },
          "metadata": {},
          "output_type": "display_data"
        },
        {
          "data": {
            "application/vnd.jupyter.widget-view+json": {
              "model_id": "2e3d26c6e92143dd93cc96f534a7da0d",
              "version_major": 2,
              "version_minor": 0
            },
            "text/plain": [
              "cap_00067.jsonl.gz:   0%|          | 0.00/133M [00:00<?, ?B/s]"
            ]
          },
          "metadata": {},
          "output_type": "display_data"
        },
        {
          "data": {
            "application/vnd.jupyter.widget-view+json": {
              "model_id": "9e4cb6b948bb4fb495818997d1abea96",
              "version_major": 2,
              "version_minor": 0
            },
            "text/plain": [
              "cap_00068.jsonl.gz:   0%|          | 0.00/144M [00:00<?, ?B/s]"
            ]
          },
          "metadata": {},
          "output_type": "display_data"
        },
        {
          "data": {
            "application/vnd.jupyter.widget-view+json": {
              "model_id": "c323acbf085444d295baed1d088687aa",
              "version_major": 2,
              "version_minor": 0
            },
            "text/plain": [
              "cap_00069.jsonl.gz:   0%|          | 0.00/142M [00:00<?, ?B/s]"
            ]
          },
          "metadata": {},
          "output_type": "display_data"
        },
        {
          "data": {
            "application/vnd.jupyter.widget-view+json": {
              "model_id": "2063f4f3709c49d9ab7e4f52833c2851",
              "version_major": 2,
              "version_minor": 0
            },
            "text/plain": [
              "cap_00070.jsonl.gz:   0%|          | 0.00/288M [00:00<?, ?B/s]"
            ]
          },
          "metadata": {},
          "output_type": "display_data"
        },
        {
          "data": {
            "application/vnd.jupyter.widget-view+json": {
              "model_id": "8e56b37fdd7448ec9b5b5f6a41d69d45",
              "version_major": 2,
              "version_minor": 0
            },
            "text/plain": [
              "cap_00071.jsonl.gz:   0%|          | 0.00/419M [00:00<?, ?B/s]"
            ]
          },
          "metadata": {},
          "output_type": "display_data"
        },
        {
          "data": {
            "application/vnd.jupyter.widget-view+json": {
              "model_id": "0d218f2173ac4ccaa651a99c5275d735",
              "version_major": 2,
              "version_minor": 0
            },
            "text/plain": [
              "cap_00072.jsonl.gz:   0%|          | 0.00/160M [00:00<?, ?B/s]"
            ]
          },
          "metadata": {},
          "output_type": "display_data"
        },
        {
          "data": {
            "application/vnd.jupyter.widget-view+json": {
              "model_id": "4a17d19b2f56495baa1957dbc84ae777",
              "version_major": 2,
              "version_minor": 0
            },
            "text/plain": [
              "cap_00073.jsonl.gz:   0%|          | 0.00/46.7M [00:00<?, ?B/s]"
            ]
          },
          "metadata": {},
          "output_type": "display_data"
        },
        {
          "data": {
            "application/vnd.jupyter.widget-view+json": {
              "model_id": "b14d8fc3ef504af999697f3b2d930d0c",
              "version_major": 2,
              "version_minor": 0
            },
            "text/plain": [
              "cap_00074.jsonl.gz:   0%|          | 0.00/40.7M [00:00<?, ?B/s]"
            ]
          },
          "metadata": {},
          "output_type": "display_data"
        },
        {
          "data": {
            "application/vnd.jupyter.widget-view+json": {
              "model_id": "10a1c9c1d5cd484fa654a59474cf1149",
              "version_major": 2,
              "version_minor": 0
            },
            "text/plain": [
              "cap_00075.jsonl.gz:   0%|          | 0.00/37.7M [00:00<?, ?B/s]"
            ]
          },
          "metadata": {},
          "output_type": "display_data"
        },
        {
          "data": {
            "application/vnd.jupyter.widget-view+json": {
              "model_id": "9c86978d3a9e4d7b86bfb4620de42bf5",
              "version_major": 2,
              "version_minor": 0
            },
            "text/plain": [
              "cap_00076.jsonl.gz:   0%|          | 0.00/55.4M [00:00<?, ?B/s]"
            ]
          },
          "metadata": {},
          "output_type": "display_data"
        },
        {
          "data": {
            "application/vnd.jupyter.widget-view+json": {
              "model_id": "ed7a9ac229694347946d7cc4eef1ae99",
              "version_major": 2,
              "version_minor": 0
            },
            "text/plain": [
              "cap_00077.jsonl.gz:   0%|          | 0.00/87.0M [00:00<?, ?B/s]"
            ]
          },
          "metadata": {},
          "output_type": "display_data"
        },
        {
          "data": {
            "application/vnd.jupyter.widget-view+json": {
              "model_id": "12623fb376574674a78066cbfb3eff6f",
              "version_major": 2,
              "version_minor": 0
            },
            "text/plain": [
              "cap_00078.jsonl.gz:   0%|          | 0.00/31.2M [00:00<?, ?B/s]"
            ]
          },
          "metadata": {},
          "output_type": "display_data"
        },
        {
          "data": {
            "application/vnd.jupyter.widget-view+json": {
              "model_id": "0b87ae2a78484cb88d908a609d2d7e87",
              "version_major": 2,
              "version_minor": 0
            },
            "text/plain": [
              "cap_00079.jsonl.gz:   0%|          | 0.00/22.6M [00:00<?, ?B/s]"
            ]
          },
          "metadata": {},
          "output_type": "display_data"
        },
        {
          "data": {
            "application/vnd.jupyter.widget-view+json": {
              "model_id": "48dba1fa71554eb3a3cc4083322f3703",
              "version_major": 2,
              "version_minor": 0
            },
            "text/plain": [
              "cap_00080.jsonl.gz:   0%|          | 0.00/17.9M [00:00<?, ?B/s]"
            ]
          },
          "metadata": {},
          "output_type": "display_data"
        },
        {
          "data": {
            "application/vnd.jupyter.widget-view+json": {
              "model_id": "26a7827ac84a42f884a3dbd2e37ec385",
              "version_major": 2,
              "version_minor": 0
            },
            "text/plain": [
              "cap_00081.jsonl.gz:   0%|          | 0.00/12.8M [00:00<?, ?B/s]"
            ]
          },
          "metadata": {},
          "output_type": "display_data"
        },
        {
          "data": {
            "application/vnd.jupyter.widget-view+json": {
              "model_id": "c087dfa2817e4beba0a4174845af5392",
              "version_major": 2,
              "version_minor": 0
            },
            "text/plain": [
              "cap_00082.jsonl.gz:   0%|          | 0.00/17.5M [00:00<?, ?B/s]"
            ]
          },
          "metadata": {},
          "output_type": "display_data"
        },
        {
          "data": {
            "application/vnd.jupyter.widget-view+json": {
              "model_id": "8f65d9beef5d4db09233fd6996d9ade9",
              "version_major": 2,
              "version_minor": 0
            },
            "text/plain": [
              "cap_00083.jsonl.gz:   0%|          | 0.00/78.4M [00:00<?, ?B/s]"
            ]
          },
          "metadata": {},
          "output_type": "display_data"
        },
        {
          "data": {
            "application/vnd.jupyter.widget-view+json": {
              "model_id": "f2d7edf74cab45b88b7217e83be3f0f3",
              "version_major": 2,
              "version_minor": 0
            },
            "text/plain": [
              "cap_00084.jsonl.gz:   0%|          | 0.00/70.4M [00:00<?, ?B/s]"
            ]
          },
          "metadata": {},
          "output_type": "display_data"
        },
        {
          "data": {
            "application/vnd.jupyter.widget-view+json": {
              "model_id": "7e38ef1bb0564e09b52424404d33b9c5",
              "version_major": 2,
              "version_minor": 0
            },
            "text/plain": [
              "cap_00085.jsonl.gz:   0%|          | 0.00/170M [00:00<?, ?B/s]"
            ]
          },
          "metadata": {},
          "output_type": "display_data"
        },
        {
          "data": {
            "application/vnd.jupyter.widget-view+json": {
              "model_id": "252fcb32f3e042df8821aefc67e08b63",
              "version_major": 2,
              "version_minor": 0
            },
            "text/plain": [
              "cap_00086.jsonl.gz:   0%|          | 0.00/188M [00:00<?, ?B/s]"
            ]
          },
          "metadata": {},
          "output_type": "display_data"
        },
        {
          "data": {
            "application/vnd.jupyter.widget-view+json": {
              "model_id": "56c852d9ad8d4fe5beaeba1966e622ff",
              "version_major": 2,
              "version_minor": 0
            },
            "text/plain": [
              "cap_00087.jsonl.gz:   0%|          | 0.00/46.3M [00:00<?, ?B/s]"
            ]
          },
          "metadata": {},
          "output_type": "display_data"
        },
        {
          "data": {
            "application/vnd.jupyter.widget-view+json": {
              "model_id": "3b7e12caf6224322965cf77f4d203d4d",
              "version_major": 2,
              "version_minor": 0
            },
            "text/plain": [
              "cap_00088.jsonl.gz:   0%|          | 0.00/33.5M [00:00<?, ?B/s]"
            ]
          },
          "metadata": {},
          "output_type": "display_data"
        },
        {
          "data": {
            "application/vnd.jupyter.widget-view+json": {
              "model_id": "ab17cbe1bda34c77b02b33b69a4d6556",
              "version_major": 2,
              "version_minor": 0
            },
            "text/plain": [
              "cap_00089.jsonl.gz:   0%|          | 0.00/20.5M [00:00<?, ?B/s]"
            ]
          },
          "metadata": {},
          "output_type": "display_data"
        },
        {
          "data": {
            "application/vnd.jupyter.widget-view+json": {
              "model_id": "17794fd806974f4799690d2780c761f7",
              "version_major": 2,
              "version_minor": 0
            },
            "text/plain": [
              "cap_00090.jsonl.gz:   0%|          | 0.00/72.4M [00:00<?, ?B/s]"
            ]
          },
          "metadata": {},
          "output_type": "display_data"
        },
        {
          "data": {
            "application/vnd.jupyter.widget-view+json": {
              "model_id": "dd770b262ca1440db0ff8c97960ec9d8",
              "version_major": 2,
              "version_minor": 0
            },
            "text/plain": [
              "cap_00091.jsonl.gz:   0%|          | 0.00/144M [00:00<?, ?B/s]"
            ]
          },
          "metadata": {},
          "output_type": "display_data"
        },
        {
          "data": {
            "application/vnd.jupyter.widget-view+json": {
              "model_id": "8a10c7b466014e39850a3d5c97b41983",
              "version_major": 2,
              "version_minor": 0
            },
            "text/plain": [
              "cap_00092.jsonl.gz:   0%|          | 0.00/126M [00:00<?, ?B/s]"
            ]
          },
          "metadata": {},
          "output_type": "display_data"
        },
        {
          "data": {
            "application/vnd.jupyter.widget-view+json": {
              "model_id": "efa2eccb5ffe4f58ad693f47b8ab3d73",
              "version_major": 2,
              "version_minor": 0
            },
            "text/plain": [
              "cap_00093.jsonl.gz:   0%|          | 0.00/164M [00:00<?, ?B/s]"
            ]
          },
          "metadata": {},
          "output_type": "display_data"
        },
        {
          "data": {
            "application/vnd.jupyter.widget-view+json": {
              "model_id": "adad11b752bf4b98b75e677350ac883c",
              "version_major": 2,
              "version_minor": 0
            },
            "text/plain": [
              "cap_00094.jsonl.gz:   0%|          | 0.00/253M [00:00<?, ?B/s]"
            ]
          },
          "metadata": {},
          "output_type": "display_data"
        },
        {
          "data": {
            "application/vnd.jupyter.widget-view+json": {
              "model_id": "1147775730ef45439d7ee2441382ea65",
              "version_major": 2,
              "version_minor": 0
            },
            "text/plain": [
              "cap_00095.jsonl.gz:   0%|          | 0.00/125M [00:00<?, ?B/s]"
            ]
          },
          "metadata": {},
          "output_type": "display_data"
        },
        {
          "data": {
            "application/vnd.jupyter.widget-view+json": {
              "model_id": "0e86f58e42ae4599912b6144d6ddffa0",
              "version_major": 2,
              "version_minor": 0
            },
            "text/plain": [
              "cap_00096.jsonl.gz:   0%|          | 0.00/217M [00:00<?, ?B/s]"
            ]
          },
          "metadata": {},
          "output_type": "display_data"
        },
        {
          "data": {
            "application/vnd.jupyter.widget-view+json": {
              "model_id": "807add80d16640508fbbdec3e1e59666",
              "version_major": 2,
              "version_minor": 0
            },
            "text/plain": [
              "cap_00097.jsonl.gz:   0%|          | 0.00/232M [00:00<?, ?B/s]"
            ]
          },
          "metadata": {},
          "output_type": "display_data"
        },
        {
          "data": {
            "application/vnd.jupyter.widget-view+json": {
              "model_id": "576e1607394e40c8a833ce4e50b92987",
              "version_major": 2,
              "version_minor": 0
            },
            "text/plain": [
              "cap_00098.jsonl.gz:   0%|          | 0.00/77.9M [00:00<?, ?B/s]"
            ]
          },
          "metadata": {},
          "output_type": "display_data"
        },
        {
          "data": {
            "application/vnd.jupyter.widget-view+json": {
              "model_id": "469ae8640726415b981d7f4838cb3be9",
              "version_major": 2,
              "version_minor": 0
            },
            "text/plain": [
              "cap_00099.jsonl.gz:   0%|          | 0.00/116M [00:00<?, ?B/s]"
            ]
          },
          "metadata": {},
          "output_type": "display_data"
        },
        {
          "data": {
            "application/vnd.jupyter.widget-view+json": {
              "model_id": "4c1771830f744f1aa9f99be70487369a",
              "version_major": 2,
              "version_minor": 0
            },
            "text/plain": [
              "cap_00100.jsonl.gz:   0%|          | 0.00/175M [00:00<?, ?B/s]"
            ]
          },
          "metadata": {},
          "output_type": "display_data"
        },
        {
          "data": {
            "application/vnd.jupyter.widget-view+json": {
              "model_id": "7b1a763f8d984927be3d4c467059fe51",
              "version_major": 2,
              "version_minor": 0
            },
            "text/plain": [
              "cap_00101.jsonl.gz:   0%|          | 0.00/163M [00:00<?, ?B/s]"
            ]
          },
          "metadata": {},
          "output_type": "display_data"
        },
        {
          "data": {
            "application/vnd.jupyter.widget-view+json": {
              "model_id": "9db26de2eb2842a8b04f54bf0be01ab9",
              "version_major": 2,
              "version_minor": 0
            },
            "text/plain": [
              "cap_00102.jsonl.gz:   0%|          | 0.00/241M [00:00<?, ?B/s]"
            ]
          },
          "metadata": {},
          "output_type": "display_data"
        },
        {
          "data": {
            "application/vnd.jupyter.widget-view+json": {
              "model_id": "d1931592f1744c4f97f67369d83018b5",
              "version_major": 2,
              "version_minor": 0
            },
            "text/plain": [
              "cap_00103.jsonl.gz:   0%|          | 0.00/243M [00:00<?, ?B/s]"
            ]
          },
          "metadata": {},
          "output_type": "display_data"
        },
        {
          "data": {
            "application/vnd.jupyter.widget-view+json": {
              "model_id": "3d1f61184cf84966abb36c0db02445bf",
              "version_major": 2,
              "version_minor": 0
            },
            "text/plain": [
              "cap_00104.jsonl.gz:   0%|          | 0.00/62.8M [00:00<?, ?B/s]"
            ]
          },
          "metadata": {},
          "output_type": "display_data"
        },
        {
          "data": {
            "application/vnd.jupyter.widget-view+json": {
              "model_id": "dbb67b3b838e4cf4b4b8f5a11af9600b",
              "version_major": 2,
              "version_minor": 0
            },
            "text/plain": [
              "cap_00105.jsonl.gz:   0%|          | 0.00/191M [00:00<?, ?B/s]"
            ]
          },
          "metadata": {},
          "output_type": "display_data"
        },
        {
          "data": {
            "application/vnd.jupyter.widget-view+json": {
              "model_id": "eb38392a9cdb41cb9a260a3f98992946",
              "version_major": 2,
              "version_minor": 0
            },
            "text/plain": [
              "cap_00106.jsonl.gz:   0%|          | 0.00/265M [00:00<?, ?B/s]"
            ]
          },
          "metadata": {},
          "output_type": "display_data"
        },
        {
          "data": {
            "application/vnd.jupyter.widget-view+json": {
              "model_id": "e6b41bb2adf944bdb417a95df6ccb0c7",
              "version_major": 2,
              "version_minor": 0
            },
            "text/plain": [
              "cap_00107.jsonl.gz:   0%|          | 0.00/312M [00:00<?, ?B/s]"
            ]
          },
          "metadata": {},
          "output_type": "display_data"
        },
        {
          "data": {
            "application/vnd.jupyter.widget-view+json": {
              "model_id": "bd13a878e7254025a6bea01397e561b9",
              "version_major": 2,
              "version_minor": 0
            },
            "text/plain": [
              "cap_00108.jsonl.gz:   0%|          | 0.00/108M [00:00<?, ?B/s]"
            ]
          },
          "metadata": {},
          "output_type": "display_data"
        },
        {
          "data": {
            "application/vnd.jupyter.widget-view+json": {
              "model_id": "18200fdbd98e4410ab6c8db92e867ebc",
              "version_major": 2,
              "version_minor": 0
            },
            "text/plain": [
              "cap_00109.jsonl.gz:   0%|          | 0.00/77.1M [00:00<?, ?B/s]"
            ]
          },
          "metadata": {},
          "output_type": "display_data"
        },
        {
          "data": {
            "application/vnd.jupyter.widget-view+json": {
              "model_id": "296dd269e4234c428c2b67129e70c84f",
              "version_major": 2,
              "version_minor": 0
            },
            "text/plain": [
              "cap_00110.jsonl.gz:   0%|          | 0.00/125M [00:00<?, ?B/s]"
            ]
          },
          "metadata": {},
          "output_type": "display_data"
        },
        {
          "data": {
            "application/vnd.jupyter.widget-view+json": {
              "model_id": "103f88fdec8849be91185c2d30fe9c0b",
              "version_major": 2,
              "version_minor": 0
            },
            "text/plain": [
              "cap_00111.jsonl.gz:   0%|          | 0.00/220M [00:00<?, ?B/s]"
            ]
          },
          "metadata": {},
          "output_type": "display_data"
        },
        {
          "data": {
            "application/vnd.jupyter.widget-view+json": {
              "model_id": "33cf159a4eda41a99b795b39b317ad32",
              "version_major": 2,
              "version_minor": 0
            },
            "text/plain": [
              "cap_00112.jsonl.gz:   0%|          | 0.00/258M [00:00<?, ?B/s]"
            ]
          },
          "metadata": {},
          "output_type": "display_data"
        },
        {
          "data": {
            "application/vnd.jupyter.widget-view+json": {
              "model_id": "f0791803f1544906b3b9eed72339b7c5",
              "version_major": 2,
              "version_minor": 0
            },
            "text/plain": [
              "cap_00113.jsonl.gz:   0%|          | 0.00/154M [00:00<?, ?B/s]"
            ]
          },
          "metadata": {},
          "output_type": "display_data"
        },
        {
          "data": {
            "application/vnd.jupyter.widget-view+json": {
              "model_id": "673a5ffbf0f747f8a2075bd31a9db0aa",
              "version_major": 2,
              "version_minor": 0
            },
            "text/plain": [
              "cap_00114.jsonl.gz:   0%|          | 0.00/141M [00:00<?, ?B/s]"
            ]
          },
          "metadata": {},
          "output_type": "display_data"
        },
        {
          "data": {
            "application/vnd.jupyter.widget-view+json": {
              "model_id": "b4aa9840944543f9b988a7bf5ab11d22",
              "version_major": 2,
              "version_minor": 0
            },
            "text/plain": [
              "cap_00115.jsonl.gz:   0%|          | 0.00/91.5M [00:00<?, ?B/s]"
            ]
          },
          "metadata": {},
          "output_type": "display_data"
        },
        {
          "data": {
            "application/vnd.jupyter.widget-view+json": {
              "model_id": "aec0087ef8f245808a4d77e654db3520",
              "version_major": 2,
              "version_minor": 0
            },
            "text/plain": [
              "cap_00116.jsonl.gz:   0%|          | 0.00/91.6M [00:00<?, ?B/s]"
            ]
          },
          "metadata": {},
          "output_type": "display_data"
        },
        {
          "data": {
            "application/vnd.jupyter.widget-view+json": {
              "model_id": "792d919c6133458d92129b3763649c92",
              "version_major": 2,
              "version_minor": 0
            },
            "text/plain": [
              "cap_00117.jsonl.gz:   0%|          | 0.00/114M [00:00<?, ?B/s]"
            ]
          },
          "metadata": {},
          "output_type": "display_data"
        },
        {
          "data": {
            "application/vnd.jupyter.widget-view+json": {
              "model_id": "323a3db9f0cf401cadc28735da90a0f8",
              "version_major": 2,
              "version_minor": 0
            },
            "text/plain": [
              "cap_00118.jsonl.gz:   0%|          | 0.00/176M [00:00<?, ?B/s]"
            ]
          },
          "metadata": {},
          "output_type": "display_data"
        },
        {
          "data": {
            "application/vnd.jupyter.widget-view+json": {
              "model_id": "d1528f557c1441d1a600fb750bf099c2",
              "version_major": 2,
              "version_minor": 0
            },
            "text/plain": [
              "cap_00119.jsonl.gz:   0%|          | 0.00/128M [00:00<?, ?B/s]"
            ]
          },
          "metadata": {},
          "output_type": "display_data"
        },
        {
          "data": {
            "application/vnd.jupyter.widget-view+json": {
              "model_id": "1cf1c6a967c74897b9318b649282c42b",
              "version_major": 2,
              "version_minor": 0
            },
            "text/plain": [
              "cap_00120.jsonl.gz:   0%|          | 0.00/121M [00:00<?, ?B/s]"
            ]
          },
          "metadata": {},
          "output_type": "display_data"
        },
        {
          "data": {
            "application/vnd.jupyter.widget-view+json": {
              "model_id": "fe428eb067f446679a1017843cef93b5",
              "version_major": 2,
              "version_minor": 0
            },
            "text/plain": [
              "cap_00121.jsonl.gz:   0%|          | 0.00/110M [00:00<?, ?B/s]"
            ]
          },
          "metadata": {},
          "output_type": "display_data"
        },
        {
          "data": {
            "application/vnd.jupyter.widget-view+json": {
              "model_id": "edcc1a9a995a44a69a80b42f756249ed",
              "version_major": 2,
              "version_minor": 0
            },
            "text/plain": [
              "cap_00122.jsonl.gz:   0%|          | 0.00/150M [00:00<?, ?B/s]"
            ]
          },
          "metadata": {},
          "output_type": "display_data"
        },
        {
          "data": {
            "application/vnd.jupyter.widget-view+json": {
              "model_id": "927f1cfabea84a5ba34db777af218fe3",
              "version_major": 2,
              "version_minor": 0
            },
            "text/plain": [
              "cap_00123.jsonl.gz:   0%|          | 0.00/139M [00:00<?, ?B/s]"
            ]
          },
          "metadata": {},
          "output_type": "display_data"
        },
        {
          "data": {
            "application/vnd.jupyter.widget-view+json": {
              "model_id": "15b112779dc94e6d93338d5d1c3ce4b9",
              "version_major": 2,
              "version_minor": 0
            },
            "text/plain": [
              "cap_00124.jsonl.gz:   0%|          | 0.00/176M [00:00<?, ?B/s]"
            ]
          },
          "metadata": {},
          "output_type": "display_data"
        },
        {
          "data": {
            "application/vnd.jupyter.widget-view+json": {
              "model_id": "01f51cc775d442e58b10577a49dd5df3",
              "version_major": 2,
              "version_minor": 0
            },
            "text/plain": [
              "cap_00125.jsonl.gz:   0%|          | 0.00/154M [00:00<?, ?B/s]"
            ]
          },
          "metadata": {},
          "output_type": "display_data"
        },
        {
          "data": {
            "application/vnd.jupyter.widget-view+json": {
              "model_id": "339c2487a58d4237adc1ae0d16023c87",
              "version_major": 2,
              "version_minor": 0
            },
            "text/plain": [
              "cap_00126.jsonl.gz:   0%|          | 0.00/83.2M [00:00<?, ?B/s]"
            ]
          },
          "metadata": {},
          "output_type": "display_data"
        },
        {
          "data": {
            "application/vnd.jupyter.widget-view+json": {
              "model_id": "3ed6772fdbe5458b82a53753f5993f5f",
              "version_major": 2,
              "version_minor": 0
            },
            "text/plain": [
              "cap_00127.jsonl.gz:   0%|          | 0.00/113M [00:00<?, ?B/s]"
            ]
          },
          "metadata": {},
          "output_type": "display_data"
        },
        {
          "data": {
            "application/vnd.jupyter.widget-view+json": {
              "model_id": "6479e18c6d714a969663f63c2451b44b",
              "version_major": 2,
              "version_minor": 0
            },
            "text/plain": [
              "cap_00128.jsonl.gz:   0%|          | 0.00/100M [00:00<?, ?B/s]"
            ]
          },
          "metadata": {},
          "output_type": "display_data"
        },
        {
          "data": {
            "application/vnd.jupyter.widget-view+json": {
              "model_id": "9c3d1033a7b94bc3813e318f1991d811",
              "version_major": 2,
              "version_minor": 0
            },
            "text/plain": [
              "cap_00129.jsonl.gz:   0%|          | 0.00/84.2M [00:00<?, ?B/s]"
            ]
          },
          "metadata": {},
          "output_type": "display_data"
        },
        {
          "data": {
            "application/vnd.jupyter.widget-view+json": {
              "model_id": "9f8e4ea37bb7402fa5489ed044529e5a",
              "version_major": 2,
              "version_minor": 0
            },
            "text/plain": [
              "cap_00130.jsonl.gz:   0%|          | 0.00/80.0M [00:00<?, ?B/s]"
            ]
          },
          "metadata": {},
          "output_type": "display_data"
        },
        {
          "data": {
            "application/vnd.jupyter.widget-view+json": {
              "model_id": "ea3f2dbf6e4f46af8203faf6874a4817",
              "version_major": 2,
              "version_minor": 0
            },
            "text/plain": [
              "cap_00131.jsonl.gz:   0%|          | 0.00/87.0M [00:00<?, ?B/s]"
            ]
          },
          "metadata": {},
          "output_type": "display_data"
        },
        {
          "data": {
            "application/vnd.jupyter.widget-view+json": {
              "model_id": "3190fa1f398641558aee2966bd1a2877",
              "version_major": 2,
              "version_minor": 0
            },
            "text/plain": [
              "cap_00132.jsonl.gz:   0%|          | 0.00/131M [00:00<?, ?B/s]"
            ]
          },
          "metadata": {},
          "output_type": "display_data"
        },
        {
          "data": {
            "application/vnd.jupyter.widget-view+json": {
              "model_id": "4eb5a0849e5f4c62b25bd0c64a665629",
              "version_major": 2,
              "version_minor": 0
            },
            "text/plain": [
              "cap_00133.jsonl.gz:   0%|          | 0.00/166M [00:00<?, ?B/s]"
            ]
          },
          "metadata": {},
          "output_type": "display_data"
        },
        {
          "data": {
            "application/vnd.jupyter.widget-view+json": {
              "model_id": "5b2dcef21d3d41af9086e0e54a6bf857",
              "version_major": 2,
              "version_minor": 0
            },
            "text/plain": [
              "cap_00134.jsonl.gz:   0%|          | 0.00/162M [00:00<?, ?B/s]"
            ]
          },
          "metadata": {},
          "output_type": "display_data"
        },
        {
          "data": {
            "application/vnd.jupyter.widget-view+json": {
              "model_id": "f857504a2c744330962329df56f2a0b3",
              "version_major": 2,
              "version_minor": 0
            },
            "text/plain": [
              "cap_00135.jsonl.gz:   0%|          | 0.00/188M [00:00<?, ?B/s]"
            ]
          },
          "metadata": {},
          "output_type": "display_data"
        },
        {
          "data": {
            "application/vnd.jupyter.widget-view+json": {
              "model_id": "6887769a418745fb84fe7f6effa7a8ed",
              "version_major": 2,
              "version_minor": 0
            },
            "text/plain": [
              "cap_00136.jsonl.gz:   0%|          | 0.00/181M [00:00<?, ?B/s]"
            ]
          },
          "metadata": {},
          "output_type": "display_data"
        },
        {
          "data": {
            "application/vnd.jupyter.widget-view+json": {
              "model_id": "661c4f74b9f34335809ebf05f6957472",
              "version_major": 2,
              "version_minor": 0
            },
            "text/plain": [
              "cap_00137.jsonl.gz:   0%|          | 0.00/150M [00:00<?, ?B/s]"
            ]
          },
          "metadata": {},
          "output_type": "display_data"
        },
        {
          "data": {
            "application/vnd.jupyter.widget-view+json": {
              "model_id": "5063e105ad384b38bb404c3888d3d385",
              "version_major": 2,
              "version_minor": 0
            },
            "text/plain": [
              "cap_00138.jsonl.gz:   0%|          | 0.00/141M [00:00<?, ?B/s]"
            ]
          },
          "metadata": {},
          "output_type": "display_data"
        },
        {
          "data": {
            "application/vnd.jupyter.widget-view+json": {
              "model_id": "ce81c3bf5f73468e80be680918613b1c",
              "version_major": 2,
              "version_minor": 0
            },
            "text/plain": [
              "cap_00139.jsonl.gz:   0%|          | 0.00/201M [00:00<?, ?B/s]"
            ]
          },
          "metadata": {},
          "output_type": "display_data"
        },
        {
          "data": {
            "application/vnd.jupyter.widget-view+json": {
              "model_id": "c88c6c50d32e466f97c3d17ccbfe4599",
              "version_major": 2,
              "version_minor": 0
            },
            "text/plain": [
              "cap_00140.jsonl.gz:   0%|          | 0.00/303M [00:00<?, ?B/s]"
            ]
          },
          "metadata": {},
          "output_type": "display_data"
        },
        {
          "data": {
            "application/vnd.jupyter.widget-view+json": {
              "model_id": "cbecd26cb9d84c068b4af353f06ea85b",
              "version_major": 2,
              "version_minor": 0
            },
            "text/plain": [
              "cap_00141.jsonl.gz:   0%|          | 0.00/253M [00:00<?, ?B/s]"
            ]
          },
          "metadata": {},
          "output_type": "display_data"
        },
        {
          "data": {
            "application/vnd.jupyter.widget-view+json": {
              "model_id": "256904616e23489b8c286cf32ca43bb3",
              "version_major": 2,
              "version_minor": 0
            },
            "text/plain": [
              "cap_00142.jsonl.gz:   0%|          | 0.00/160M [00:00<?, ?B/s]"
            ]
          },
          "metadata": {},
          "output_type": "display_data"
        },
        {
          "data": {
            "application/vnd.jupyter.widget-view+json": {
              "model_id": "7be5011c3f864298a7348d1f85f64f29",
              "version_major": 2,
              "version_minor": 0
            },
            "text/plain": [
              "cap_00143.jsonl.gz:   0%|          | 0.00/89.4M [00:00<?, ?B/s]"
            ]
          },
          "metadata": {},
          "output_type": "display_data"
        },
        {
          "data": {
            "application/vnd.jupyter.widget-view+json": {
              "model_id": "466254c9408c4358bf19482793aea2ba",
              "version_major": 2,
              "version_minor": 0
            },
            "text/plain": [
              "cap_00144.jsonl.gz:   0%|          | 0.00/88.7M [00:00<?, ?B/s]"
            ]
          },
          "metadata": {},
          "output_type": "display_data"
        },
        {
          "data": {
            "application/vnd.jupyter.widget-view+json": {
              "model_id": "34baf3bc2cf24ef4b9b2bc72fc70040d",
              "version_major": 2,
              "version_minor": 0
            },
            "text/plain": [
              "cap_00145.jsonl.gz:   0%|          | 0.00/182M [00:00<?, ?B/s]"
            ]
          },
          "metadata": {},
          "output_type": "display_data"
        },
        {
          "data": {
            "application/vnd.jupyter.widget-view+json": {
              "model_id": "5d1b07ef691c43ccaa7e67c421fc0180",
              "version_major": 2,
              "version_minor": 0
            },
            "text/plain": [
              "cap_00146.jsonl.gz:   0%|          | 0.00/145M [00:00<?, ?B/s]"
            ]
          },
          "metadata": {},
          "output_type": "display_data"
        },
        {
          "data": {
            "application/vnd.jupyter.widget-view+json": {
              "model_id": "cdedb7788875486f9e5c6e6bd43525a1",
              "version_major": 2,
              "version_minor": 0
            },
            "text/plain": [
              "cap_00147.jsonl.gz:   0%|          | 0.00/286M [00:00<?, ?B/s]"
            ]
          },
          "metadata": {},
          "output_type": "display_data"
        },
        {
          "data": {
            "application/vnd.jupyter.widget-view+json": {
              "model_id": "e5ef0d7c698a4448ab317e58c61dac94",
              "version_major": 2,
              "version_minor": 0
            },
            "text/plain": [
              "cap_00148.jsonl.gz:   0%|          | 0.00/44.5M [00:00<?, ?B/s]"
            ]
          },
          "metadata": {},
          "output_type": "display_data"
        },
        {
          "data": {
            "application/vnd.jupyter.widget-view+json": {
              "model_id": "781f666f938041b1977ad52691d3da1c",
              "version_major": 2,
              "version_minor": 0
            },
            "text/plain": [
              "cap_00149.jsonl.gz:   0%|          | 0.00/333M [00:00<?, ?B/s]"
            ]
          },
          "metadata": {},
          "output_type": "display_data"
        },
        {
          "data": {
            "application/vnd.jupyter.widget-view+json": {
              "model_id": "7a462185ab7840ce8075f3250af87280",
              "version_major": 2,
              "version_minor": 0
            },
            "text/plain": [
              "cap_00150.jsonl.gz:   0%|          | 0.00/90.9M [00:00<?, ?B/s]"
            ]
          },
          "metadata": {},
          "output_type": "display_data"
        },
        {
          "data": {
            "application/vnd.jupyter.widget-view+json": {
              "model_id": "88a645da35d74b6cb89754b6c748a8e7",
              "version_major": 2,
              "version_minor": 0
            },
            "text/plain": [
              "cap_00151.jsonl.gz:   0%|          | 0.00/146M [00:00<?, ?B/s]"
            ]
          },
          "metadata": {},
          "output_type": "display_data"
        },
        {
          "data": {
            "application/vnd.jupyter.widget-view+json": {
              "model_id": "c7f28e0b958141a985297a6854cb4fc5",
              "version_major": 2,
              "version_minor": 0
            },
            "text/plain": [
              "cap_00152.jsonl.gz:   0%|          | 0.00/163M [00:00<?, ?B/s]"
            ]
          },
          "metadata": {},
          "output_type": "display_data"
        },
        {
          "data": {
            "application/vnd.jupyter.widget-view+json": {
              "model_id": "a8ef847bfee240068aab0610abde95ae",
              "version_major": 2,
              "version_minor": 0
            },
            "text/plain": [
              "cap_00153.jsonl.gz:   0%|          | 0.00/179M [00:00<?, ?B/s]"
            ]
          },
          "metadata": {},
          "output_type": "display_data"
        },
        {
          "data": {
            "application/vnd.jupyter.widget-view+json": {
              "model_id": "5de840f360264404a72bb0c572700da4",
              "version_major": 2,
              "version_minor": 0
            },
            "text/plain": [
              "cap_00154.jsonl.gz:   0%|          | 0.00/163M [00:00<?, ?B/s]"
            ]
          },
          "metadata": {},
          "output_type": "display_data"
        },
        {
          "data": {
            "application/vnd.jupyter.widget-view+json": {
              "model_id": "886a84b274354393a6d6f7b4e947f531",
              "version_major": 2,
              "version_minor": 0
            },
            "text/plain": [
              "cap_00155.jsonl.gz:   0%|          | 0.00/80.1M [00:00<?, ?B/s]"
            ]
          },
          "metadata": {},
          "output_type": "display_data"
        },
        {
          "data": {
            "application/vnd.jupyter.widget-view+json": {
              "model_id": "6edac326ec234f89bc9b17f3f733b64f",
              "version_major": 2,
              "version_minor": 0
            },
            "text/plain": [
              "cap_00156.jsonl.gz:   0%|          | 0.00/168M [00:00<?, ?B/s]"
            ]
          },
          "metadata": {},
          "output_type": "display_data"
        },
        {
          "data": {
            "application/vnd.jupyter.widget-view+json": {
              "model_id": "c2274cfb1d0b435badff7482a22ba8b4",
              "version_major": 2,
              "version_minor": 0
            },
            "text/plain": [
              "cap_00157.jsonl.gz:   0%|          | 0.00/391M [00:00<?, ?B/s]"
            ]
          },
          "metadata": {},
          "output_type": "display_data"
        },
        {
          "data": {
            "application/vnd.jupyter.widget-view+json": {
              "model_id": "d4f14a116b3645558119f1ab2dd7bc09",
              "version_major": 2,
              "version_minor": 0
            },
            "text/plain": [
              "cap_00158.jsonl.gz:   0%|          | 0.00/320M [00:00<?, ?B/s]"
            ]
          },
          "metadata": {},
          "output_type": "display_data"
        },
        {
          "data": {
            "application/vnd.jupyter.widget-view+json": {
              "model_id": "b85c10b2b941413ba85916fdf9eb435e",
              "version_major": 2,
              "version_minor": 0
            },
            "text/plain": [
              "cap_00159.jsonl.gz:   0%|          | 0.00/122M [00:00<?, ?B/s]"
            ]
          },
          "metadata": {},
          "output_type": "display_data"
        },
        {
          "data": {
            "application/vnd.jupyter.widget-view+json": {
              "model_id": "e5a8e828d7f145b585311d7b51ef0a6c",
              "version_major": 2,
              "version_minor": 0
            },
            "text/plain": [
              "cap_00160.jsonl.gz:   0%|          | 0.00/50.9M [00:00<?, ?B/s]"
            ]
          },
          "metadata": {},
          "output_type": "display_data"
        },
        {
          "data": {
            "application/vnd.jupyter.widget-view+json": {
              "model_id": "1c225cb4857e4d03865746de702e7ebb",
              "version_major": 2,
              "version_minor": 0
            },
            "text/plain": [
              "cap_00161.jsonl.gz:   0%|          | 0.00/69.7M [00:00<?, ?B/s]"
            ]
          },
          "metadata": {},
          "output_type": "display_data"
        },
        {
          "data": {
            "application/vnd.jupyter.widget-view+json": {
              "model_id": "6286c0d39ada478c861d754a936beeb7",
              "version_major": 2,
              "version_minor": 0
            },
            "text/plain": [
              "cap_00162.jsonl.gz:   0%|          | 0.00/142M [00:00<?, ?B/s]"
            ]
          },
          "metadata": {},
          "output_type": "display_data"
        },
        {
          "data": {
            "application/vnd.jupyter.widget-view+json": {
              "model_id": "f0b4ed2fdb5843b094d840d6ec85020b",
              "version_major": 2,
              "version_minor": 0
            },
            "text/plain": [
              "cap_00163.jsonl.gz:   0%|          | 0.00/320M [00:00<?, ?B/s]"
            ]
          },
          "metadata": {},
          "output_type": "display_data"
        },
        {
          "data": {
            "application/vnd.jupyter.widget-view+json": {
              "model_id": "85031d33a37b4dd7baa533bc340d5361",
              "version_major": 2,
              "version_minor": 0
            },
            "text/plain": [
              "cap_00164.jsonl.gz:   0%|          | 0.00/243M [00:00<?, ?B/s]"
            ]
          },
          "metadata": {},
          "output_type": "display_data"
        },
        {
          "data": {
            "application/vnd.jupyter.widget-view+json": {
              "model_id": "6ee050f6e5f746d0ac65f932034d364c",
              "version_major": 2,
              "version_minor": 0
            },
            "text/plain": [
              "cap_00165.jsonl.gz:   0%|          | 0.00/141M [00:00<?, ?B/s]"
            ]
          },
          "metadata": {},
          "output_type": "display_data"
        },
        {
          "data": {
            "application/vnd.jupyter.widget-view+json": {
              "model_id": "48776c4a8614447589f65df3421cd25e",
              "version_major": 2,
              "version_minor": 0
            },
            "text/plain": [
              "cap_00166.jsonl.gz:   0%|          | 0.00/88.1M [00:00<?, ?B/s]"
            ]
          },
          "metadata": {},
          "output_type": "display_data"
        },
        {
          "data": {
            "application/vnd.jupyter.widget-view+json": {
              "model_id": "ead3429a2440458793bc8984080bdbbe",
              "version_major": 2,
              "version_minor": 0
            },
            "text/plain": [
              "cap_00167.jsonl.gz:   0%|          | 0.00/90.9M [00:00<?, ?B/s]"
            ]
          },
          "metadata": {},
          "output_type": "display_data"
        },
        {
          "data": {
            "application/vnd.jupyter.widget-view+json": {
              "model_id": "19d88b5ccc7b4101989757549d6f44d8",
              "version_major": 2,
              "version_minor": 0
            },
            "text/plain": [
              "cap_00168.jsonl.gz:   0%|          | 0.00/59.2M [00:00<?, ?B/s]"
            ]
          },
          "metadata": {},
          "output_type": "display_data"
        },
        {
          "data": {
            "application/vnd.jupyter.widget-view+json": {
              "model_id": "6a87e698e3ba4e1c9dfb57486fcbb36a",
              "version_major": 2,
              "version_minor": 0
            },
            "text/plain": [
              "cap_00169.jsonl.gz:   0%|          | 0.00/92.8M [00:00<?, ?B/s]"
            ]
          },
          "metadata": {},
          "output_type": "display_data"
        },
        {
          "data": {
            "application/vnd.jupyter.widget-view+json": {
              "model_id": "b0d4095a097644e298c9092f9357d618",
              "version_major": 2,
              "version_minor": 0
            },
            "text/plain": [
              "cap_00170.jsonl.gz:   0%|          | 0.00/125M [00:00<?, ?B/s]"
            ]
          },
          "metadata": {},
          "output_type": "display_data"
        },
        {
          "data": {
            "application/vnd.jupyter.widget-view+json": {
              "model_id": "06588c8ee4444a91a50a03a59e39cca5",
              "version_major": 2,
              "version_minor": 0
            },
            "text/plain": [
              "cap_00171.jsonl.gz:   0%|          | 0.00/147M [00:00<?, ?B/s]"
            ]
          },
          "metadata": {},
          "output_type": "display_data"
        },
        {
          "data": {
            "application/vnd.jupyter.widget-view+json": {
              "model_id": "4a70160bd6d1464a9fb527423c6b9fff",
              "version_major": 2,
              "version_minor": 0
            },
            "text/plain": [
              "cap_00172.jsonl.gz:   0%|          | 0.00/164M [00:00<?, ?B/s]"
            ]
          },
          "metadata": {},
          "output_type": "display_data"
        },
        {
          "data": {
            "application/vnd.jupyter.widget-view+json": {
              "model_id": "c1196ce184904e099cf624f3ad6aa7eb",
              "version_major": 2,
              "version_minor": 0
            },
            "text/plain": [
              "Generating train split: 0 examples [00:00, ? examples/s]"
            ]
          },
          "metadata": {},
          "output_type": "display_data"
        },
        {
          "ename": "DatasetGenerationError",
          "evalue": "An error occurred while generating the dataset",
          "output_type": "error",
          "traceback": [
            "\u001b[0;31m---------------------------------------------------------------------------\u001b[0m",
            "\u001b[0;31mOSError\u001b[0m                                   Traceback (most recent call last)",
            "\u001b[0;32m/usr/local/lib/python3.11/dist-packages/datasets/builder.py\u001b[0m in \u001b[0;36m_prepare_split_single\u001b[0;34m(self, gen_kwargs, fpath, file_format, max_shard_size, job_id)\u001b[0m\n\u001b[1;32m   1830\u001b[0m                     \u001b[0;32mtry\u001b[0m\u001b[0;34m:\u001b[0m\u001b[0;34m\u001b[0m\u001b[0;34m\u001b[0m\u001b[0m\n\u001b[0;32m-> 1831\u001b[0;31m                         \u001b[0mwriter\u001b[0m\u001b[0;34m.\u001b[0m\u001b[0mwrite_table\u001b[0m\u001b[0;34m(\u001b[0m\u001b[0mtable\u001b[0m\u001b[0;34m)\u001b[0m\u001b[0;34m\u001b[0m\u001b[0;34m\u001b[0m\u001b[0m\n\u001b[0m\u001b[1;32m   1832\u001b[0m                     \u001b[0;32mexcept\u001b[0m \u001b[0mCastError\u001b[0m \u001b[0;32mas\u001b[0m \u001b[0mcast_error\u001b[0m\u001b[0;34m:\u001b[0m\u001b[0;34m\u001b[0m\u001b[0;34m\u001b[0m\u001b[0m\n",
            "\u001b[0;32m/usr/local/lib/python3.11/dist-packages/datasets/arrow_writer.py\u001b[0m in \u001b[0;36mwrite_table\u001b[0;34m(self, pa_table, writer_batch_size)\u001b[0m\n\u001b[1;32m    648\u001b[0m         \u001b[0mself\u001b[0m\u001b[0;34m.\u001b[0m\u001b[0m_num_examples\u001b[0m \u001b[0;34m+=\u001b[0m \u001b[0mpa_table\u001b[0m\u001b[0;34m.\u001b[0m\u001b[0mnum_rows\u001b[0m\u001b[0;34m\u001b[0m\u001b[0;34m\u001b[0m\u001b[0m\n\u001b[0;32m--> 649\u001b[0;31m         \u001b[0mself\u001b[0m\u001b[0;34m.\u001b[0m\u001b[0mpa_writer\u001b[0m\u001b[0;34m.\u001b[0m\u001b[0mwrite_table\u001b[0m\u001b[0;34m(\u001b[0m\u001b[0mpa_table\u001b[0m\u001b[0;34m,\u001b[0m \u001b[0mwriter_batch_size\u001b[0m\u001b[0;34m)\u001b[0m\u001b[0;34m\u001b[0m\u001b[0;34m\u001b[0m\u001b[0m\n\u001b[0m\u001b[1;32m    650\u001b[0m \u001b[0;34m\u001b[0m\u001b[0m\n",
            "\u001b[0;32m/usr/local/lib/python3.11/dist-packages/pyarrow/ipc.pxi\u001b[0m in \u001b[0;36mpyarrow.lib._CRecordBatchWriter.write_table\u001b[0;34m()\u001b[0m\n",
            "\u001b[0;32m/usr/local/lib/python3.11/dist-packages/pyarrow/error.pxi\u001b[0m in \u001b[0;36mpyarrow.lib.check_status\u001b[0;34m()\u001b[0m\n",
            "\u001b[0;32m/usr/local/lib/python3.11/dist-packages/fsspec/implementations/local.py\u001b[0m in \u001b[0;36mwrite\u001b[0;34m(self, *args, **kwargs)\u001b[0m\n\u001b[1;32m    431\u001b[0m     \u001b[0;32mdef\u001b[0m \u001b[0mwrite\u001b[0m\u001b[0;34m(\u001b[0m\u001b[0mself\u001b[0m\u001b[0;34m,\u001b[0m \u001b[0;34m*\u001b[0m\u001b[0margs\u001b[0m\u001b[0;34m,\u001b[0m \u001b[0;34m**\u001b[0m\u001b[0mkwargs\u001b[0m\u001b[0;34m)\u001b[0m\u001b[0;34m:\u001b[0m\u001b[0;34m\u001b[0m\u001b[0;34m\u001b[0m\u001b[0m\n\u001b[0;32m--> 432\u001b[0;31m         \u001b[0;32mreturn\u001b[0m \u001b[0mself\u001b[0m\u001b[0;34m.\u001b[0m\u001b[0mf\u001b[0m\u001b[0;34m.\u001b[0m\u001b[0mwrite\u001b[0m\u001b[0;34m(\u001b[0m\u001b[0;34m*\u001b[0m\u001b[0margs\u001b[0m\u001b[0;34m,\u001b[0m \u001b[0;34m**\u001b[0m\u001b[0mkwargs\u001b[0m\u001b[0;34m)\u001b[0m\u001b[0;34m\u001b[0m\u001b[0;34m\u001b[0m\u001b[0m\n\u001b[0m\u001b[1;32m    433\u001b[0m \u001b[0;34m\u001b[0m\u001b[0m\n",
            "\u001b[0;31mOSError\u001b[0m: [Errno 28] No space left on device",
            "\nDuring handling of the above exception, another exception occurred:\n",
            "\u001b[0;31mOSError\u001b[0m                                   Traceback (most recent call last)",
            "\u001b[0;32m/usr/local/lib/python3.11/dist-packages/datasets/builder.py\u001b[0m in \u001b[0;36m_prepare_split_single\u001b[0;34m(self, gen_kwargs, fpath, file_format, max_shard_size, job_id)\u001b[0m\n\u001b[1;32m   1846\u001b[0m                 \u001b[0mnum_shards\u001b[0m \u001b[0;34m=\u001b[0m \u001b[0mshard_id\u001b[0m \u001b[0;34m+\u001b[0m \u001b[0;36m1\u001b[0m\u001b[0;34m\u001b[0m\u001b[0;34m\u001b[0m\u001b[0m\n\u001b[0;32m-> 1847\u001b[0;31m                 \u001b[0mnum_examples\u001b[0m\u001b[0;34m,\u001b[0m \u001b[0mnum_bytes\u001b[0m \u001b[0;34m=\u001b[0m \u001b[0mwriter\u001b[0m\u001b[0;34m.\u001b[0m\u001b[0mfinalize\u001b[0m\u001b[0;34m(\u001b[0m\u001b[0;34m)\u001b[0m\u001b[0;34m\u001b[0m\u001b[0;34m\u001b[0m\u001b[0m\n\u001b[0m\u001b[1;32m   1848\u001b[0m                 \u001b[0mwriter\u001b[0m\u001b[0;34m.\u001b[0m\u001b[0mclose\u001b[0m\u001b[0;34m(\u001b[0m\u001b[0;34m)\u001b[0m\u001b[0;34m\u001b[0m\u001b[0;34m\u001b[0m\u001b[0m\n",
            "\u001b[0;32m/usr/local/lib/python3.11/dist-packages/datasets/arrow_writer.py\u001b[0m in \u001b[0;36mfinalize\u001b[0;34m(self, close_stream)\u001b[0m\n\u001b[1;32m    665\u001b[0m             \u001b[0;32mif\u001b[0m \u001b[0mclose_stream\u001b[0m\u001b[0;34m:\u001b[0m\u001b[0;34m\u001b[0m\u001b[0;34m\u001b[0m\u001b[0m\n\u001b[0;32m--> 666\u001b[0;31m                 \u001b[0mself\u001b[0m\u001b[0;34m.\u001b[0m\u001b[0mstream\u001b[0m\u001b[0;34m.\u001b[0m\u001b[0mclose\u001b[0m\u001b[0;34m(\u001b[0m\u001b[0;34m)\u001b[0m\u001b[0;34m\u001b[0m\u001b[0;34m\u001b[0m\u001b[0m\n\u001b[0m\u001b[1;32m    667\u001b[0m         \u001b[0;32melse\u001b[0m\u001b[0;34m:\u001b[0m\u001b[0;34m\u001b[0m\u001b[0;34m\u001b[0m\u001b[0m\n",
            "\u001b[0;32m/usr/local/lib/python3.11/dist-packages/fsspec/implementations/local.py\u001b[0m in \u001b[0;36mclose\u001b[0;34m(self)\u001b[0m\n\u001b[1;32m    449\u001b[0m     \u001b[0;32mdef\u001b[0m \u001b[0mclose\u001b[0m\u001b[0;34m(\u001b[0m\u001b[0mself\u001b[0m\u001b[0;34m)\u001b[0m\u001b[0;34m:\u001b[0m\u001b[0;34m\u001b[0m\u001b[0;34m\u001b[0m\u001b[0m\n\u001b[0;32m--> 450\u001b[0;31m         \u001b[0;32mreturn\u001b[0m \u001b[0mself\u001b[0m\u001b[0;34m.\u001b[0m\u001b[0mf\u001b[0m\u001b[0;34m.\u001b[0m\u001b[0mclose\u001b[0m\u001b[0;34m(\u001b[0m\u001b[0;34m)\u001b[0m\u001b[0;34m\u001b[0m\u001b[0;34m\u001b[0m\u001b[0m\n\u001b[0m\u001b[1;32m    451\u001b[0m \u001b[0;34m\u001b[0m\u001b[0m\n",
            "\u001b[0;31mOSError\u001b[0m: [Errno 28] No space left on device",
            "\nThe above exception was the direct cause of the following exception:\n",
            "\u001b[0;31mDatasetGenerationError\u001b[0m                    Traceback (most recent call last)",
            "\u001b[0;32m/tmp/ipython-input-34-2680958602.py\u001b[0m in \u001b[0;36m<cell line: 0>\u001b[0;34m()\u001b[0m\n\u001b[1;32m      1\u001b[0m \u001b[0;32mfrom\u001b[0m \u001b[0mdatasets\u001b[0m \u001b[0;32mimport\u001b[0m \u001b[0mload_dataset\u001b[0m\u001b[0;34m\u001b[0m\u001b[0;34m\u001b[0m\u001b[0m\n\u001b[0;32m----> 2\u001b[0;31m \u001b[0mload_dataset\u001b[0m\u001b[0;34m(\u001b[0m\u001b[0;34m'common-pile/caselaw_access_project'\u001b[0m\u001b[0;34m)\u001b[0m\u001b[0;34m\u001b[0m\u001b[0;34m\u001b[0m\u001b[0m\n\u001b[0m",
            "\u001b[0;32m/usr/local/lib/python3.11/dist-packages/datasets/load.py\u001b[0m in \u001b[0;36mload_dataset\u001b[0;34m(path, name, data_dir, data_files, split, cache_dir, features, download_config, download_mode, verification_mode, keep_in_memory, save_infos, revision, token, streaming, num_proc, storage_options, **config_kwargs)\u001b[0m\n\u001b[1;32m   1410\u001b[0m \u001b[0;34m\u001b[0m\u001b[0m\n\u001b[1;32m   1411\u001b[0m     \u001b[0;31m# Download and prepare data\u001b[0m\u001b[0;34m\u001b[0m\u001b[0;34m\u001b[0m\u001b[0m\n\u001b[0;32m-> 1412\u001b[0;31m     builder_instance.download_and_prepare(\n\u001b[0m\u001b[1;32m   1413\u001b[0m         \u001b[0mdownload_config\u001b[0m\u001b[0;34m=\u001b[0m\u001b[0mdownload_config\u001b[0m\u001b[0;34m,\u001b[0m\u001b[0;34m\u001b[0m\u001b[0;34m\u001b[0m\u001b[0m\n\u001b[1;32m   1414\u001b[0m         \u001b[0mdownload_mode\u001b[0m\u001b[0;34m=\u001b[0m\u001b[0mdownload_mode\u001b[0m\u001b[0;34m,\u001b[0m\u001b[0;34m\u001b[0m\u001b[0;34m\u001b[0m\u001b[0m\n",
            "\u001b[0;32m/usr/local/lib/python3.11/dist-packages/datasets/builder.py\u001b[0m in \u001b[0;36mdownload_and_prepare\u001b[0;34m(self, output_dir, download_config, download_mode, verification_mode, dl_manager, base_path, file_format, max_shard_size, num_proc, storage_options, **download_and_prepare_kwargs)\u001b[0m\n\u001b[1;32m    892\u001b[0m                     \u001b[0;32mif\u001b[0m \u001b[0mnum_proc\u001b[0m \u001b[0;32mis\u001b[0m \u001b[0;32mnot\u001b[0m \u001b[0;32mNone\u001b[0m\u001b[0;34m:\u001b[0m\u001b[0;34m\u001b[0m\u001b[0;34m\u001b[0m\u001b[0m\n\u001b[1;32m    893\u001b[0m                         \u001b[0mprepare_split_kwargs\u001b[0m\u001b[0;34m[\u001b[0m\u001b[0;34m\"num_proc\"\u001b[0m\u001b[0;34m]\u001b[0m \u001b[0;34m=\u001b[0m \u001b[0mnum_proc\u001b[0m\u001b[0;34m\u001b[0m\u001b[0;34m\u001b[0m\u001b[0m\n\u001b[0;32m--> 894\u001b[0;31m                     self._download_and_prepare(\n\u001b[0m\u001b[1;32m    895\u001b[0m                         \u001b[0mdl_manager\u001b[0m\u001b[0;34m=\u001b[0m\u001b[0mdl_manager\u001b[0m\u001b[0;34m,\u001b[0m\u001b[0;34m\u001b[0m\u001b[0;34m\u001b[0m\u001b[0m\n\u001b[1;32m    896\u001b[0m                         \u001b[0mverification_mode\u001b[0m\u001b[0;34m=\u001b[0m\u001b[0mverification_mode\u001b[0m\u001b[0;34m,\u001b[0m\u001b[0;34m\u001b[0m\u001b[0;34m\u001b[0m\u001b[0m\n",
            "\u001b[0;32m/usr/local/lib/python3.11/dist-packages/datasets/builder.py\u001b[0m in \u001b[0;36m_download_and_prepare\u001b[0;34m(self, dl_manager, verification_mode, **prepare_split_kwargs)\u001b[0m\n\u001b[1;32m    968\u001b[0m             \u001b[0;32mtry\u001b[0m\u001b[0;34m:\u001b[0m\u001b[0;34m\u001b[0m\u001b[0;34m\u001b[0m\u001b[0m\n\u001b[1;32m    969\u001b[0m                 \u001b[0;31m# Prepare split will record examples associated to the split\u001b[0m\u001b[0;34m\u001b[0m\u001b[0;34m\u001b[0m\u001b[0m\n\u001b[0;32m--> 970\u001b[0;31m                 \u001b[0mself\u001b[0m\u001b[0;34m.\u001b[0m\u001b[0m_prepare_split\u001b[0m\u001b[0;34m(\u001b[0m\u001b[0msplit_generator\u001b[0m\u001b[0;34m,\u001b[0m \u001b[0;34m**\u001b[0m\u001b[0mprepare_split_kwargs\u001b[0m\u001b[0;34m)\u001b[0m\u001b[0;34m\u001b[0m\u001b[0;34m\u001b[0m\u001b[0m\n\u001b[0m\u001b[1;32m    971\u001b[0m             \u001b[0;32mexcept\u001b[0m \u001b[0mOSError\u001b[0m \u001b[0;32mas\u001b[0m \u001b[0me\u001b[0m\u001b[0;34m:\u001b[0m\u001b[0;34m\u001b[0m\u001b[0;34m\u001b[0m\u001b[0m\n\u001b[1;32m    972\u001b[0m                 raise OSError(\n",
            "\u001b[0;32m/usr/local/lib/python3.11/dist-packages/datasets/builder.py\u001b[0m in \u001b[0;36m_prepare_split\u001b[0;34m(self, split_generator, file_format, num_proc, max_shard_size)\u001b[0m\n\u001b[1;32m   1700\u001b[0m             \u001b[0mjob_id\u001b[0m \u001b[0;34m=\u001b[0m \u001b[0;36m0\u001b[0m\u001b[0;34m\u001b[0m\u001b[0;34m\u001b[0m\u001b[0m\n\u001b[1;32m   1701\u001b[0m             \u001b[0;32mwith\u001b[0m \u001b[0mpbar\u001b[0m\u001b[0;34m:\u001b[0m\u001b[0;34m\u001b[0m\u001b[0;34m\u001b[0m\u001b[0m\n\u001b[0;32m-> 1702\u001b[0;31m                 for job_id, done, content in self._prepare_split_single(\n\u001b[0m\u001b[1;32m   1703\u001b[0m                     \u001b[0mgen_kwargs\u001b[0m\u001b[0;34m=\u001b[0m\u001b[0mgen_kwargs\u001b[0m\u001b[0;34m,\u001b[0m \u001b[0mjob_id\u001b[0m\u001b[0;34m=\u001b[0m\u001b[0mjob_id\u001b[0m\u001b[0;34m,\u001b[0m \u001b[0;34m**\u001b[0m\u001b[0m_prepare_split_args\u001b[0m\u001b[0;34m\u001b[0m\u001b[0;34m\u001b[0m\u001b[0m\n\u001b[1;32m   1704\u001b[0m                 ):\n",
            "\u001b[0;32m/usr/local/lib/python3.11/dist-packages/datasets/builder.py\u001b[0m in \u001b[0;36m_prepare_split_single\u001b[0;34m(self, gen_kwargs, fpath, file_format, max_shard_size, job_id)\u001b[0m\n\u001b[1;32m   1856\u001b[0m             \u001b[0;32mif\u001b[0m \u001b[0misinstance\u001b[0m\u001b[0;34m(\u001b[0m\u001b[0me\u001b[0m\u001b[0;34m,\u001b[0m \u001b[0mDatasetGenerationError\u001b[0m\u001b[0;34m)\u001b[0m\u001b[0;34m:\u001b[0m\u001b[0;34m\u001b[0m\u001b[0;34m\u001b[0m\u001b[0m\n\u001b[1;32m   1857\u001b[0m                 \u001b[0;32mraise\u001b[0m\u001b[0;34m\u001b[0m\u001b[0;34m\u001b[0m\u001b[0m\n\u001b[0;32m-> 1858\u001b[0;31m             \u001b[0;32mraise\u001b[0m \u001b[0mDatasetGenerationError\u001b[0m\u001b[0;34m(\u001b[0m\u001b[0;34m\"An error occurred while generating the dataset\"\u001b[0m\u001b[0;34m)\u001b[0m \u001b[0;32mfrom\u001b[0m \u001b[0me\u001b[0m\u001b[0;34m\u001b[0m\u001b[0;34m\u001b[0m\u001b[0m\n\u001b[0m\u001b[1;32m   1859\u001b[0m \u001b[0;34m\u001b[0m\u001b[0m\n\u001b[1;32m   1860\u001b[0m         \u001b[0;32myield\u001b[0m \u001b[0mjob_id\u001b[0m\u001b[0;34m,\u001b[0m \u001b[0;32mTrue\u001b[0m\u001b[0;34m,\u001b[0m \u001b[0;34m(\u001b[0m\u001b[0mtotal_num_examples\u001b[0m\u001b[0;34m,\u001b[0m \u001b[0mtotal_num_bytes\u001b[0m\u001b[0;34m,\u001b[0m \u001b[0mwriter\u001b[0m\u001b[0;34m.\u001b[0m\u001b[0m_features\u001b[0m\u001b[0;34m,\u001b[0m \u001b[0mnum_shards\u001b[0m\u001b[0;34m,\u001b[0m \u001b[0mshard_lengths\u001b[0m\u001b[0;34m)\u001b[0m\u001b[0;34m\u001b[0m\u001b[0;34m\u001b[0m\u001b[0m\n",
            "\u001b[0;31mDatasetGenerationError\u001b[0m: An error occurred while generating the dataset"
          ]
        }
      ],
      "source": [
        "from datasets import load_dataset\n",
        "load_dataset('common-pile/caselaw_access_project')"
      ]
    },
    {
      "cell_type": "code",
      "execution_count": null,
      "metadata": {
        "id": "LhBbX8Kxoibz"
      },
      "outputs": [],
      "source": []
    }
  ],
  "metadata": {
    "colab": {
      "provenance": []
    },
    "kernelspec": {
      "display_name": "Python 3",
      "name": "python3"
    },
    "language_info": {
      "name": "python"
    }
  },
  "nbformat": 4,
  "nbformat_minor": 0
}